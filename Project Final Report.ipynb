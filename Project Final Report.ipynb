{
 "cells": [
  {
   "cell_type": "markdown",
   "id": "ef553079-9803-47a9-8a56-2cece4c1a565",
   "metadata": {},
   "source": [
    "# STAT 301 Group Project Proposal - Predicting Housing Prices of Residential Homes in Ames, Iowa\n",
    "\n",
    "#### Authors: Emilio Dorador, Amar Gill, Tanmay Thakral, Yolanda Wu"
   ]
  },
  {
   "cell_type": "code",
   "execution_count": 1,
   "id": "a9fcdd95-04c1-4d2b-8a74-73be9349954d",
   "metadata": {
    "vscode": {
     "languageId": "r"
    }
   },
   "outputs": [
    {
     "name": "stderr",
     "output_type": "stream",
     "text": [
      "Updating HTML index of packages in '.Library'\n",
      "\n",
      "Making 'packages.html' ...\n",
      " done\n",
      "\n",
      "Updating HTML index of packages in '.Library'\n",
      "\n",
      "Making 'packages.html' ...\n",
      " done\n",
      "\n",
      "── \u001b[1mAttaching packages\u001b[22m ─────────────────────────────────────── tidyverse 1.3.2 ──\n",
      "\u001b[32m✔\u001b[39m \u001b[34mggplot2\u001b[39m 3.3.6      \u001b[32m✔\u001b[39m \u001b[34mpurrr  \u001b[39m 0.3.5 \n",
      "\u001b[32m✔\u001b[39m \u001b[34mtibble \u001b[39m 3.1.8      \u001b[32m✔\u001b[39m \u001b[34mdplyr  \u001b[39m 1.0.10\n",
      "\u001b[32m✔\u001b[39m \u001b[34mtidyr  \u001b[39m 1.2.1      \u001b[32m✔\u001b[39m \u001b[34mstringr\u001b[39m 1.4.1 \n",
      "\u001b[32m✔\u001b[39m \u001b[34mreadr  \u001b[39m 2.1.3      \u001b[32m✔\u001b[39m \u001b[34mforcats\u001b[39m 0.5.2 \n",
      "── \u001b[1mConflicts\u001b[22m ────────────────────────────────────────── tidyverse_conflicts() ──\n",
      "\u001b[31m✖\u001b[39m \u001b[34mdplyr\u001b[39m::\u001b[32mfilter()\u001b[39m masks \u001b[34mstats\u001b[39m::filter()\n",
      "\u001b[31m✖\u001b[39m \u001b[34mdplyr\u001b[39m::\u001b[32mlag()\u001b[39m    masks \u001b[34mstats\u001b[39m::lag()\n",
      "Loading required package: Matrix\n",
      "\n",
      "\n",
      "Attaching package: ‘Matrix’\n",
      "\n",
      "\n",
      "The following objects are masked from ‘package:tidyr’:\n",
      "\n",
      "    expand, pack, unpack\n",
      "\n",
      "\n",
      "Loaded glmnet 4.1-2\n",
      "\n",
      "Loading required package: bestglm\n",
      "\n",
      "Loading required package: VGAM\n",
      "\n",
      "Loading required package: stats4\n",
      "\n",
      "Loading required package: splines\n",
      "\n",
      "Loading required package: rpart\n",
      "\n",
      "Loading required package: randomForest\n",
      "\n",
      "randomForest 4.7-1.1\n",
      "\n",
      "Type rfNews() to see new features/changes/bug fixes.\n",
      "\n",
      "\n",
      "Attaching package: ‘randomForest’\n",
      "\n",
      "\n",
      "The following object is masked from ‘package:dplyr’:\n",
      "\n",
      "    combine\n",
      "\n",
      "\n",
      "The following object is masked from ‘package:ggplot2’:\n",
      "\n",
      "    margin\n",
      "\n",
      "\n",
      "Important regclass change from 1.3:\n",
      "All functions that had a . in the name now have an _\n",
      "all.correlations -> all_correlations, cor.demo -> cor_demo, etc.\n",
      "\n",
      "\n",
      "Loading required package: lattice\n",
      "\n",
      "\n",
      "Attaching package: ‘lattice’\n",
      "\n",
      "\n",
      "The following object is masked from ‘package:regclass’:\n",
      "\n",
      "    qq\n",
      "\n",
      "\n",
      "\n",
      "Attaching package: ‘caret’\n",
      "\n",
      "\n",
      "The following object is masked from ‘package:VGAM’:\n",
      "\n",
      "    predictors\n",
      "\n",
      "\n",
      "The following object is masked from ‘package:purrr’:\n",
      "\n",
      "    lift\n",
      "\n",
      "\n",
      "\n",
      "Attaching package: ‘data.table’\n",
      "\n",
      "\n",
      "The following objects are masked from ‘package:dplyr’:\n",
      "\n",
      "    between, first, last\n",
      "\n",
      "\n",
      "The following object is masked from ‘package:purrr’:\n",
      "\n",
      "    transpose\n",
      "\n",
      "\n",
      "\n",
      "Attaching package: ‘mltools’\n",
      "\n",
      "\n",
      "The following object is masked from ‘package:tidyr’:\n",
      "\n",
      "    replace_na\n",
      "\n",
      "\n",
      "corrplot 0.92 loaded\n",
      "\n",
      "Loading required package: carData\n",
      "\n",
      "\n",
      "Attaching package: ‘car’\n",
      "\n",
      "\n",
      "The following object is masked from ‘package:VGAM’:\n",
      "\n",
      "    logit\n",
      "\n",
      "\n",
      "The following object is masked from ‘package:dplyr’:\n",
      "\n",
      "    recode\n",
      "\n",
      "\n",
      "The following object is masked from ‘package:purrr’:\n",
      "\n",
      "    some\n",
      "\n",
      "\n"
     ]
    }
   ],
   "source": [
    "install.packages('corrplot')\n",
    "install.packages('regclass')\n",
    "\n",
    "library(tidyverse)\n",
    "library(tidyverse)\n",
    "library(glmnet)\n",
    "library(broom)\n",
    "library(leaps)\n",
    "library(repr)\n",
    "library(regclass)\n",
    "library(caret)\n",
    "library(data.table)\n",
    "library(mltools)\n",
    "library(corrplot)\n",
    "library(car)\n",
    "\n",
    "options(jupyter.plot_mimetypes = \"image/png\")"
   ]
  },
  {
   "cell_type": "markdown",
   "id": "84752671-8d1b-42b1-bc7d-103c3b0710cd",
   "metadata": {},
   "source": [
    "## Introduction\n",
    "\n",
    "During the sale of a house, it is important for realtors to have accurate and relevant information to help guide the negotiation process (Huang & Rutherford, 2007). As such, it is important for a realtor to have important information regarding the house as well as any statistical inferences that can aid them in the sale since using the internet and other related information based technologies can lead to increased earnings (Benjamin et al., 2002). In this report, we present the results of our analysis aimed at predicting housing prices in Ames, Iowa using linear regression and cross-validation. The data for this analysis was collected in 2010 (Kaggle) and includes various variables related to the characteristics of the homes. Our goal was to identify the critical factors that influence a house's price and to develop a model that can accurately predict these prices. In order to avoid biased estimators and improve model performance, we used the LASSO method for feature selection."
   ]
  },
  {
   "cell_type": "markdown",
   "id": "889f9f2f-a9b5-4905-866d-0746894c7e76",
   "metadata": {},
   "source": [
    "## 1.Exploratory Data Analysis"
   ]
  },
  {
   "cell_type": "markdown",
   "id": "c54dfb06-26a7-40d9-986e-ca934c25c4c7",
   "metadata": {},
   "source": [
    "#### 1.1 - Reading the Dataset"
   ]
  },
  {
   "cell_type": "code",
   "execution_count": 2,
   "id": "3eade98e-aa28-4399-a616-1eb75b29ab8a",
   "metadata": {
    "vscode": {
     "languageId": "r"
    }
   },
   "outputs": [
    {
     "name": "stderr",
     "output_type": "stream",
     "text": [
      "\u001b[1mRows: \u001b[22m\u001b[34m1460\u001b[39m \u001b[1mColumns: \u001b[22m\u001b[34m81\u001b[39m\n",
      "\u001b[36m──\u001b[39m \u001b[1mColumn specification\u001b[22m \u001b[36m────────────────────────────────────────────────────────\u001b[39m\n",
      "\u001b[1mDelimiter:\u001b[22m \",\"\n",
      "\u001b[31mchr\u001b[39m (43): MSZoning, Street, Alley, LotShape, LandContour, Utilities, LotConf...\n",
      "\u001b[32mdbl\u001b[39m (38): Id, MSSubClass, LotFrontage, LotArea, OverallQual, OverallCond, Ye...\n",
      "\n",
      "\u001b[36mℹ\u001b[39m Use `spec()` to retrieve the full column specification for this data.\n",
      "\u001b[36mℹ\u001b[39m Specify the column types or set `show_col_types = FALSE` to quiet this message.\n"
     ]
    },
    {
     "data": {
      "text/html": [
       "<table class=\"dataframe\">\n",
       "<caption>A tibble: 6 × 81</caption>\n",
       "<thead>\n",
       "\t<tr><th scope=col>Id</th><th scope=col>MSSubClass</th><th scope=col>MSZoning</th><th scope=col>LotFrontage</th><th scope=col>LotArea</th><th scope=col>Street</th><th scope=col>Alley</th><th scope=col>LotShape</th><th scope=col>LandContour</th><th scope=col>Utilities</th><th scope=col>⋯</th><th scope=col>PoolArea</th><th scope=col>PoolQC</th><th scope=col>Fence</th><th scope=col>MiscFeature</th><th scope=col>MiscVal</th><th scope=col>MoSold</th><th scope=col>YrSold</th><th scope=col>SaleType</th><th scope=col>SaleCondition</th><th scope=col>SalePrice</th></tr>\n",
       "\t<tr><th scope=col>&lt;dbl&gt;</th><th scope=col>&lt;dbl&gt;</th><th scope=col>&lt;chr&gt;</th><th scope=col>&lt;dbl&gt;</th><th scope=col>&lt;dbl&gt;</th><th scope=col>&lt;chr&gt;</th><th scope=col>&lt;chr&gt;</th><th scope=col>&lt;chr&gt;</th><th scope=col>&lt;chr&gt;</th><th scope=col>&lt;chr&gt;</th><th scope=col>⋯</th><th scope=col>&lt;dbl&gt;</th><th scope=col>&lt;chr&gt;</th><th scope=col>&lt;chr&gt;</th><th scope=col>&lt;chr&gt;</th><th scope=col>&lt;dbl&gt;</th><th scope=col>&lt;dbl&gt;</th><th scope=col>&lt;dbl&gt;</th><th scope=col>&lt;chr&gt;</th><th scope=col>&lt;chr&gt;</th><th scope=col>&lt;dbl&gt;</th></tr>\n",
       "</thead>\n",
       "<tbody>\n",
       "\t<tr><td>1</td><td>60</td><td>RL</td><td>65</td><td> 8450</td><td>Pave</td><td>NA</td><td>Reg</td><td>Lvl</td><td>AllPub</td><td>⋯</td><td>0</td><td>NA</td><td>NA   </td><td>NA  </td><td>  0</td><td> 2</td><td>2008</td><td>WD</td><td>Normal </td><td>208500</td></tr>\n",
       "\t<tr><td>2</td><td>20</td><td>RL</td><td>80</td><td> 9600</td><td>Pave</td><td>NA</td><td>Reg</td><td>Lvl</td><td>AllPub</td><td>⋯</td><td>0</td><td>NA</td><td>NA   </td><td>NA  </td><td>  0</td><td> 5</td><td>2007</td><td>WD</td><td>Normal </td><td>181500</td></tr>\n",
       "\t<tr><td>3</td><td>60</td><td>RL</td><td>68</td><td>11250</td><td>Pave</td><td>NA</td><td>IR1</td><td>Lvl</td><td>AllPub</td><td>⋯</td><td>0</td><td>NA</td><td>NA   </td><td>NA  </td><td>  0</td><td> 9</td><td>2008</td><td>WD</td><td>Normal </td><td>223500</td></tr>\n",
       "\t<tr><td>4</td><td>70</td><td>RL</td><td>60</td><td> 9550</td><td>Pave</td><td>NA</td><td>IR1</td><td>Lvl</td><td>AllPub</td><td>⋯</td><td>0</td><td>NA</td><td>NA   </td><td>NA  </td><td>  0</td><td> 2</td><td>2006</td><td>WD</td><td>Abnorml</td><td>140000</td></tr>\n",
       "\t<tr><td>5</td><td>60</td><td>RL</td><td>84</td><td>14260</td><td>Pave</td><td>NA</td><td>IR1</td><td>Lvl</td><td>AllPub</td><td>⋯</td><td>0</td><td>NA</td><td>NA   </td><td>NA  </td><td>  0</td><td>12</td><td>2008</td><td>WD</td><td>Normal </td><td>250000</td></tr>\n",
       "\t<tr><td>6</td><td>50</td><td>RL</td><td>85</td><td>14115</td><td>Pave</td><td>NA</td><td>IR1</td><td>Lvl</td><td>AllPub</td><td>⋯</td><td>0</td><td>NA</td><td>MnPrv</td><td>Shed</td><td>700</td><td>10</td><td>2009</td><td>WD</td><td>Normal </td><td>143000</td></tr>\n",
       "</tbody>\n",
       "</table>\n"
      ],
      "text/latex": [
       "A tibble: 6 × 81\n",
       "\\begin{tabular}{lllllllllllllllllllll}\n",
       " Id & MSSubClass & MSZoning & LotFrontage & LotArea & Street & Alley & LotShape & LandContour & Utilities & ⋯ & PoolArea & PoolQC & Fence & MiscFeature & MiscVal & MoSold & YrSold & SaleType & SaleCondition & SalePrice\\\\\n",
       " <dbl> & <dbl> & <chr> & <dbl> & <dbl> & <chr> & <chr> & <chr> & <chr> & <chr> & ⋯ & <dbl> & <chr> & <chr> & <chr> & <dbl> & <dbl> & <dbl> & <chr> & <chr> & <dbl>\\\\\n",
       "\\hline\n",
       "\t 1 & 60 & RL & 65 &  8450 & Pave & NA & Reg & Lvl & AllPub & ⋯ & 0 & NA & NA    & NA   &   0 &  2 & 2008 & WD & Normal  & 208500\\\\\n",
       "\t 2 & 20 & RL & 80 &  9600 & Pave & NA & Reg & Lvl & AllPub & ⋯ & 0 & NA & NA    & NA   &   0 &  5 & 2007 & WD & Normal  & 181500\\\\\n",
       "\t 3 & 60 & RL & 68 & 11250 & Pave & NA & IR1 & Lvl & AllPub & ⋯ & 0 & NA & NA    & NA   &   0 &  9 & 2008 & WD & Normal  & 223500\\\\\n",
       "\t 4 & 70 & RL & 60 &  9550 & Pave & NA & IR1 & Lvl & AllPub & ⋯ & 0 & NA & NA    & NA   &   0 &  2 & 2006 & WD & Abnorml & 140000\\\\\n",
       "\t 5 & 60 & RL & 84 & 14260 & Pave & NA & IR1 & Lvl & AllPub & ⋯ & 0 & NA & NA    & NA   &   0 & 12 & 2008 & WD & Normal  & 250000\\\\\n",
       "\t 6 & 50 & RL & 85 & 14115 & Pave & NA & IR1 & Lvl & AllPub & ⋯ & 0 & NA & MnPrv & Shed & 700 & 10 & 2009 & WD & Normal  & 143000\\\\\n",
       "\\end{tabular}\n"
      ],
      "text/markdown": [
       "\n",
       "A tibble: 6 × 81\n",
       "\n",
       "| Id &lt;dbl&gt; | MSSubClass &lt;dbl&gt; | MSZoning &lt;chr&gt; | LotFrontage &lt;dbl&gt; | LotArea &lt;dbl&gt; | Street &lt;chr&gt; | Alley &lt;chr&gt; | LotShape &lt;chr&gt; | LandContour &lt;chr&gt; | Utilities &lt;chr&gt; | ⋯ ⋯ | PoolArea &lt;dbl&gt; | PoolQC &lt;chr&gt; | Fence &lt;chr&gt; | MiscFeature &lt;chr&gt; | MiscVal &lt;dbl&gt; | MoSold &lt;dbl&gt; | YrSold &lt;dbl&gt; | SaleType &lt;chr&gt; | SaleCondition &lt;chr&gt; | SalePrice &lt;dbl&gt; |\n",
       "|---|---|---|---|---|---|---|---|---|---|---|---|---|---|---|---|---|---|---|---|---|\n",
       "| 1 | 60 | RL | 65 |  8450 | Pave | NA | Reg | Lvl | AllPub | ⋯ | 0 | NA | NA    | NA   |   0 |  2 | 2008 | WD | Normal  | 208500 |\n",
       "| 2 | 20 | RL | 80 |  9600 | Pave | NA | Reg | Lvl | AllPub | ⋯ | 0 | NA | NA    | NA   |   0 |  5 | 2007 | WD | Normal  | 181500 |\n",
       "| 3 | 60 | RL | 68 | 11250 | Pave | NA | IR1 | Lvl | AllPub | ⋯ | 0 | NA | NA    | NA   |   0 |  9 | 2008 | WD | Normal  | 223500 |\n",
       "| 4 | 70 | RL | 60 |  9550 | Pave | NA | IR1 | Lvl | AllPub | ⋯ | 0 | NA | NA    | NA   |   0 |  2 | 2006 | WD | Abnorml | 140000 |\n",
       "| 5 | 60 | RL | 84 | 14260 | Pave | NA | IR1 | Lvl | AllPub | ⋯ | 0 | NA | NA    | NA   |   0 | 12 | 2008 | WD | Normal  | 250000 |\n",
       "| 6 | 50 | RL | 85 | 14115 | Pave | NA | IR1 | Lvl | AllPub | ⋯ | 0 | NA | MnPrv | Shed | 700 | 10 | 2009 | WD | Normal  | 143000 |\n",
       "\n"
      ],
      "text/plain": [
       "  Id MSSubClass MSZoning LotFrontage LotArea Street Alley LotShape LandContour\n",
       "1 1  60         RL       65           8450   Pave   NA    Reg      Lvl        \n",
       "2 2  20         RL       80           9600   Pave   NA    Reg      Lvl        \n",
       "3 3  60         RL       68          11250   Pave   NA    IR1      Lvl        \n",
       "4 4  70         RL       60           9550   Pave   NA    IR1      Lvl        \n",
       "5 5  60         RL       84          14260   Pave   NA    IR1      Lvl        \n",
       "6 6  50         RL       85          14115   Pave   NA    IR1      Lvl        \n",
       "  Utilities ⋯ PoolArea PoolQC Fence MiscFeature MiscVal MoSold YrSold SaleType\n",
       "1 AllPub    ⋯ 0        NA     NA    NA            0      2     2008   WD      \n",
       "2 AllPub    ⋯ 0        NA     NA    NA            0      5     2007   WD      \n",
       "3 AllPub    ⋯ 0        NA     NA    NA            0      9     2008   WD      \n",
       "4 AllPub    ⋯ 0        NA     NA    NA            0      2     2006   WD      \n",
       "5 AllPub    ⋯ 0        NA     NA    NA            0     12     2008   WD      \n",
       "6 AllPub    ⋯ 0        NA     MnPrv Shed        700     10     2009   WD      \n",
       "  SaleCondition SalePrice\n",
       "1 Normal        208500   \n",
       "2 Normal        181500   \n",
       "3 Normal        223500   \n",
       "4 Abnorml       140000   \n",
       "5 Normal        250000   \n",
       "6 Normal        143000   "
      ]
     },
     "metadata": {},
     "output_type": "display_data"
    },
    {
     "data": {
      "text/html": [
       "<style>\n",
       ".list-inline {list-style: none; margin:0; padding: 0}\n",
       ".list-inline>li {display: inline-block}\n",
       ".list-inline>li:not(:last-child)::after {content: \"\\00b7\"; padding: 0 .5ex}\n",
       "</style>\n",
       "<ol class=list-inline><li>1460</li><li>81</li></ol>\n"
      ],
      "text/latex": [
       "\\begin{enumerate*}\n",
       "\\item 1460\n",
       "\\item 81\n",
       "\\end{enumerate*}\n"
      ],
      "text/markdown": [
       "1. 1460\n",
       "2. 81\n",
       "\n",
       "\n"
      ],
      "text/plain": [
       "[1] 1460   81"
      ]
     },
     "metadata": {},
     "output_type": "display_data"
    }
   ],
   "source": [
    "# Read the data into R\n",
    "housing_data0 <- read_csv(\"https://raw.githubusercontent.com/yolanda-5/Stat301-Project/main/train.csv\")\n",
    "# housing_data0 represents original raw data loaded in\n",
    "head(housing_data0)\n",
    "dim(housing_data0)"
   ]
  },
  {
   "cell_type": "markdown",
   "id": "7a1ef7ce-33bb-46f4-b906-9ca2195942c3",
   "metadata": {
    "tags": []
   },
   "source": [
    "#### 1.2 - Cleaning and Wrangling the Data into Tidy Format"
   ]
  },
  {
   "cell_type": "code",
   "execution_count": 3,
   "id": "8cf49ad1-2ce8-4bbc-a065-3723912b62c8",
   "metadata": {
    "vscode": {
     "languageId": "r"
    }
   },
   "outputs": [
    {
     "data": {
      "text/html": [
       "'There are 6965 missing values in the dataset'"
      ],
      "text/latex": [
       "'There are 6965 missing values in the dataset'"
      ],
      "text/markdown": [
       "'There are 6965 missing values in the dataset'"
      ],
      "text/plain": [
       "[1] \"There are 6965 missing values in the dataset\""
      ]
     },
     "metadata": {},
     "output_type": "display_data"
    }
   ],
   "source": [
    "# Check for NA values in the dataset\n",
    "total_missing_values <- sum(is.na(housing_data0))\n",
    "paste(\"There are\", total_missing_values ,\"missing values in the dataset\")\n",
    "\n",
    "# Converting categorical variables to data type 'factor'\n",
    "housing_data <- housing_data0 %>%\n",
    "  mutate_if(is.character, factor)"
   ]
  },
  {
   "cell_type": "markdown",
   "id": "dd595ab3-92e6-4392-9e29-8f0fad6c6e27",
   "metadata": {},
   "source": [
    "#### 1.3 - Plotting Relevant Visualizations with Raw Data"
   ]
  },
  {
   "cell_type": "markdown",
   "id": "8969ac33-aa78-43c6-982d-9e6671e8938f",
   "metadata": {},
   "source": [
    "First, let's visualize the distribution of the target (response) variable `SalePrice`."
   ]
  },
  {
   "cell_type": "code",
   "execution_count": 4,
   "id": "aae6968a-93d9-49d3-a8b1-473ff53735bc",
   "metadata": {
    "vscode": {
     "languageId": "r"
    }
   },
   "outputs": [
    {
     "data": {
      "image/png": "[encoded data removed]"
     },
     "metadata": {
      "image/png": {
       "height": 420,
       "width": 420
      }
     },
     "output_type": "display_data"
    }
   ],
   "source": [
    "options(jupyter.plot_mime.types = \"image/png\")\n",
    "\n",
    "housing_plot <- housing_data %>% ggplot(aes(x = SalePrice)) +\n",
    "    geom_histogram(bins = 50) +\n",
    "    xlab(\"Sale Price of Property in Dollars\") +\n",
    "    ylab(\"Count\") +\n",
    "    ggtitle(\"Distribution of Iowa's Housing Sale Price\")\n",
    "housing_plot"
   ]
  },
  {
   "cell_type": "markdown",
   "id": "a3de191b-708e-45b0-9590-75cec9d477cf",
   "metadata": {},
   "source": [
    "*Figure 1.1 Distribution of response variable using histogram*"
   ]
  },
  {
   "cell_type": "markdown",
   "id": "3c0774ed-1760-46bc-8e51-4e2e7513b2b7",
   "metadata": {},
   "source": [
    "**Interpretation:** As shown above in Figure 1.1, we observe a unimodal, right skewed distribution for Iona's housing sale price, centered roughly at 150,000 dollars."
   ]
  },
  {
   "cell_type": "markdown",
   "id": "c0608955-9107-4326-b84f-74d4a359d375",
   "metadata": {},
   "source": [
    "Then let's calculate and visualize correlations between variables contained in the dataset to check for multicollinearity and look for any strong relationships between the response and other predictor variables. "
   ]
  },
  {
   "cell_type": "code",
   "execution_count": 5,
   "id": "c7f93579-adad-4d15-997f-322be23b47b2",
   "metadata": {
    "vscode": {
     "languageId": "r"
    }
   },
   "outputs": [
    {
     "data": {
      "image/png": "[encoded data removed]"
     },
     "metadata": {
      "image/png": {
       "height": 420,
       "width": 420
      }
     },
     "output_type": "display_data"
    }
   ],
   "source": [
    "options(jupyter.plot_mime.types = \"image/png\")\n",
    "\n",
    "## Calculate the correlation matrix\n",
    "cor_matrix <- cor(housing_data %>% select_if(is.numeric))\n",
    "# Visualize the correlations using a heatmap\n",
    "corrplot(cor_matrix, method = \"color\")"
   ]
  },
  {
   "cell_type": "markdown",
   "id": "e682bdaa-31e0-46b5-99fd-7128c139bca3",
   "metadata": {},
   "source": [
    "*Figure 1.2 Heatmap of the correlation matrix for all variables in the raw dataset*"
   ]
  },
  {
   "cell_type": "markdown",
   "id": "f825c627-e8e6-49c8-9c39-eb723bd083ec",
   "metadata": {},
   "source": [
    "**Interpretation:** The heatmap visualizes the strength of correlation between each pair of variables from the housing dataset, where dark blue indicates strong positive correlation and dark red shows strong negative correlation. Note the diagonal entries are correlations between variables to themselves, hence are all equal to 1.  "
   ]
  },
  {
   "cell_type": "markdown",
   "id": "3325c58c-5412-4613-8962-f8910012ad36",
   "metadata": {},
   "source": [
    "#### 1.4 - Calculating Summary Statistics"
   ]
  },
  {
   "cell_type": "markdown",
   "id": "1ae16320-4a24-47cd-b304-d7ef22dc7144",
   "metadata": {},
   "source": [
    "We use the following code to obtain summary information about the whole housing dataset:"
   ]
  },
  {
   "cell_type": "code",
   "execution_count": 6,
   "id": "fd40eef3-0067-4d0e-880c-87657296f676",
   "metadata": {
    "vscode": {
     "languageId": "r"
    }
   },
   "outputs": [
    {
     "data": {
      "text/plain": [
       "       Id           MSSubClass       MSZoning     LotFrontage    \n",
       " Min.   :   1.0   Min.   : 20.0   C (all):  10   Min.   : 21.00  \n",
       " 1st Qu.: 365.8   1st Qu.: 20.0   FV     :  65   1st Qu.: 59.00  \n",
       " Median : 730.5   Median : 50.0   RH     :  16   Median : 69.00  \n",
       " Mean   : 730.5   Mean   : 56.9   RL     :1151   Mean   : 70.05  \n",
       " 3rd Qu.:1095.2   3rd Qu.: 70.0   RM     : 218   3rd Qu.: 80.00  \n",
       " Max.   :1460.0   Max.   :190.0                  Max.   :313.00  \n",
       "                                                 NA's   :259     \n",
       "    LotArea        Street      Alley      LotShape  LandContour  Utilities   \n",
       " Min.   :  1300   Grvl:   6   Grvl:  50   IR1:484   Bnk:  63    AllPub:1459  \n",
       " 1st Qu.:  7554   Pave:1454   Pave:  41   IR2: 41   HLS:  50    NoSeWa:   1  \n",
       " Median :  9478               NA's:1369   IR3: 10   Low:  36                 \n",
       " Mean   : 10517                           Reg:925   Lvl:1311                 \n",
       " 3rd Qu.: 11602                                                              \n",
       " Max.   :215245                                                              \n",
       "                                                                             \n",
       "   LotConfig    LandSlope   Neighborhood   Condition1     Condition2  \n",
       " Corner : 263   Gtl:1382   NAmes  :225   Norm   :1260   Norm   :1445  \n",
       " CulDSac:  94   Mod:  65   CollgCr:150   Feedr  :  81   Feedr  :   6  \n",
       " FR2    :  47   Sev:  13   OldTown:113   Artery :  48   Artery :   2  \n",
       " FR3    :   4              Edwards:100   RRAn   :  26   PosN   :   2  \n",
       " Inside :1052              Somerst: 86   PosN   :  19   RRNn   :   2  \n",
       "                           Gilbert: 79   RRAe   :  11   PosA   :   1  \n",
       "                           (Other):707   (Other):  15   (Other):   2  \n",
       "   BldgType      HouseStyle   OverallQual      OverallCond      YearBuilt   \n",
       " 1Fam  :1220   1Story :726   Min.   : 1.000   Min.   :1.000   Min.   :1872  \n",
       " 2fmCon:  31   2Story :445   1st Qu.: 5.000   1st Qu.:5.000   1st Qu.:1954  \n",
       " Duplex:  52   1.5Fin :154   Median : 6.000   Median :5.000   Median :1973  \n",
       " Twnhs :  43   SLvl   : 65   Mean   : 6.099   Mean   :5.575   Mean   :1971  \n",
       " TwnhsE: 114   SFoyer : 37   3rd Qu.: 7.000   3rd Qu.:6.000   3rd Qu.:2000  \n",
       "               1.5Unf : 14   Max.   :10.000   Max.   :9.000   Max.   :2010  \n",
       "               (Other): 19                                                  \n",
       "  YearRemodAdd    RoofStyle       RoofMatl     Exterior1st   Exterior2nd \n",
       " Min.   :1950   Flat   :  13   CompShg:1434   VinylSd:515   VinylSd:504  \n",
       " 1st Qu.:1967   Gable  :1141   Tar&Grv:  11   HdBoard:222   MetalSd:214  \n",
       " Median :1994   Gambrel:  11   WdShngl:   6   MetalSd:220   HdBoard:207  \n",
       " Mean   :1985   Hip    : 286   WdShake:   5   Wd Sdng:206   Wd Sdng:197  \n",
       " 3rd Qu.:2004   Mansard:   7   ClyTile:   1   Plywood:108   Plywood:142  \n",
       " Max.   :2010   Shed   :   2   Membran:   1   CemntBd: 61   CmentBd: 60  \n",
       "                               (Other):   2   (Other):128   (Other):136  \n",
       "   MasVnrType    MasVnrArea     ExterQual ExterCond  Foundation  BsmtQual  \n",
       " BrkCmn : 15   Min.   :   0.0   Ex: 52    Ex:   3   BrkTil:146   Ex  :121  \n",
       " BrkFace:445   1st Qu.:   0.0   Fa: 14    Fa:  28   CBlock:634   Fa  : 35  \n",
       " None   :864   Median :   0.0   Gd:488    Gd: 146   PConc :647   Gd  :618  \n",
       " Stone  :128   Mean   : 103.7   TA:906    Po:   1   Slab  : 24   TA  :649  \n",
       " NA's   :  8   3rd Qu.: 166.0             TA:1282   Stone :  6   NA's: 37  \n",
       "               Max.   :1600.0                       Wood  :  3             \n",
       "               NA's   :8                                                   \n",
       " BsmtCond    BsmtExposure BsmtFinType1   BsmtFinSF1     BsmtFinType2\n",
       " Fa  :  45   Av  :221     ALQ :220     Min.   :   0.0   ALQ :  19   \n",
       " Gd  :  65   Gd  :134     BLQ :148     1st Qu.:   0.0   BLQ :  33   \n",
       " Po  :   2   Mn  :114     GLQ :418     Median : 383.5   GLQ :  14   \n",
       " TA  :1311   No  :953     LwQ : 74     Mean   : 443.6   LwQ :  46   \n",
       " NA's:  37   NA's: 38     Rec :133     3rd Qu.: 712.2   Rec :  54   \n",
       "                          Unf :430     Max.   :5644.0   Unf :1256   \n",
       "                          NA's: 37                      NA's:  38   \n",
       "   BsmtFinSF2        BsmtUnfSF       TotalBsmtSF      Heating     HeatingQC\n",
       " Min.   :   0.00   Min.   :   0.0   Min.   :   0.0   Floor:   1   Ex:741   \n",
       " 1st Qu.:   0.00   1st Qu.: 223.0   1st Qu.: 795.8   GasA :1428   Fa: 49   \n",
       " Median :   0.00   Median : 477.5   Median : 991.5   GasW :  18   Gd:241   \n",
       " Mean   :  46.55   Mean   : 567.2   Mean   :1057.4   Grav :   7   Po:  1   \n",
       " 3rd Qu.:   0.00   3rd Qu.: 808.0   3rd Qu.:1298.2   OthW :   2   TA:428   \n",
       " Max.   :1474.00   Max.   :2336.0   Max.   :6110.0   Wall :   4            \n",
       "                                                                           \n",
       " CentralAir Electrical      1stFlrSF       2ndFlrSF     LowQualFinSF    \n",
       " N:  95     FuseA:  94   Min.   : 334   Min.   :   0   Min.   :  0.000  \n",
       " Y:1365     FuseF:  27   1st Qu.: 882   1st Qu.:   0   1st Qu.:  0.000  \n",
       "            FuseP:   3   Median :1087   Median :   0   Median :  0.000  \n",
       "            Mix  :   1   Mean   :1163   Mean   : 347   Mean   :  5.845  \n",
       "            SBrkr:1334   3rd Qu.:1391   3rd Qu.: 728   3rd Qu.:  0.000  \n",
       "            NA's :   1   Max.   :4692   Max.   :2065   Max.   :572.000  \n",
       "                                                                        \n",
       "   GrLivArea     BsmtFullBath     BsmtHalfBath        FullBath    \n",
       " Min.   : 334   Min.   :0.0000   Min.   :0.00000   Min.   :0.000  \n",
       " 1st Qu.:1130   1st Qu.:0.0000   1st Qu.:0.00000   1st Qu.:1.000  \n",
       " Median :1464   Median :0.0000   Median :0.00000   Median :2.000  \n",
       " Mean   :1515   Mean   :0.4253   Mean   :0.05753   Mean   :1.565  \n",
       " 3rd Qu.:1777   3rd Qu.:1.0000   3rd Qu.:0.00000   3rd Qu.:2.000  \n",
       " Max.   :5642   Max.   :3.0000   Max.   :2.00000   Max.   :3.000  \n",
       "                                                                  \n",
       "    HalfBath       BedroomAbvGr    KitchenAbvGr   KitchenQual  TotRmsAbvGrd   \n",
       " Min.   :0.0000   Min.   :0.000   Min.   :0.000   Ex:100      Min.   : 2.000  \n",
       " 1st Qu.:0.0000   1st Qu.:2.000   1st Qu.:1.000   Fa: 39      1st Qu.: 5.000  \n",
       " Median :0.0000   Median :3.000   Median :1.000   Gd:586      Median : 6.000  \n",
       " Mean   :0.3829   Mean   :2.866   Mean   :1.047   TA:735      Mean   : 6.518  \n",
       " 3rd Qu.:1.0000   3rd Qu.:3.000   3rd Qu.:1.000               3rd Qu.: 7.000  \n",
       " Max.   :2.0000   Max.   :8.000   Max.   :3.000               Max.   :14.000  \n",
       "                                                                              \n",
       " Functional    Fireplaces    FireplaceQu   GarageType   GarageYrBlt  \n",
       " Maj1:  14   Min.   :0.000   Ex  : 24    2Types :  6   Min.   :1900  \n",
       " Maj2:   5   1st Qu.:0.000   Fa  : 33    Attchd :870   1st Qu.:1961  \n",
       " Min1:  31   Median :1.000   Gd  :380    Basment: 19   Median :1980  \n",
       " Min2:  34   Mean   :0.613   Po  : 20    BuiltIn: 88   Mean   :1979  \n",
       " Mod :  15   3rd Qu.:1.000   TA  :313    CarPort:  9   3rd Qu.:2002  \n",
       " Sev :   1   Max.   :3.000   NA's:690    Detchd :387   Max.   :2010  \n",
       " Typ :1360                               NA's   : 81   NA's   :81    \n",
       " GarageFinish   GarageCars      GarageArea     GarageQual  GarageCond \n",
       " Fin :352     Min.   :0.000   Min.   :   0.0   Ex  :   3   Ex  :   2  \n",
       " RFn :422     1st Qu.:1.000   1st Qu.: 334.5   Fa  :  48   Fa  :  35  \n",
       " Unf :605     Median :2.000   Median : 480.0   Gd  :  14   Gd  :   9  \n",
       " NA's: 81     Mean   :1.767   Mean   : 473.0   Po  :   3   Po  :   7  \n",
       "              3rd Qu.:2.000   3rd Qu.: 576.0   TA  :1311   TA  :1326  \n",
       "              Max.   :4.000   Max.   :1418.0   NA's:  81   NA's:  81  \n",
       "                                                                      \n",
       " PavedDrive   WoodDeckSF      OpenPorchSF     EnclosedPorch      3SsnPorch     \n",
       " N:  90     Min.   :  0.00   Min.   :  0.00   Min.   :  0.00   Min.   :  0.00  \n",
       " P:  30     1st Qu.:  0.00   1st Qu.:  0.00   1st Qu.:  0.00   1st Qu.:  0.00  \n",
       " Y:1340     Median :  0.00   Median : 25.00   Median :  0.00   Median :  0.00  \n",
       "            Mean   : 94.24   Mean   : 46.66   Mean   : 21.95   Mean   :  3.41  \n",
       "            3rd Qu.:168.00   3rd Qu.: 68.00   3rd Qu.:  0.00   3rd Qu.:  0.00  \n",
       "            Max.   :857.00   Max.   :547.00   Max.   :552.00   Max.   :508.00  \n",
       "                                                                               \n",
       "  ScreenPorch        PoolArea        PoolQC       Fence      MiscFeature\n",
       " Min.   :  0.00   Min.   :  0.000   Ex  :   2   GdPrv:  59   Gar2:   2  \n",
       " 1st Qu.:  0.00   1st Qu.:  0.000   Fa  :   2   GdWo :  54   Othr:   2  \n",
       " Median :  0.00   Median :  0.000   Gd  :   3   MnPrv: 157   Shed:  49  \n",
       " Mean   : 15.06   Mean   :  2.759   NA's:1453   MnWw :  11   TenC:   1  \n",
       " 3rd Qu.:  0.00   3rd Qu.:  0.000               NA's :1179   NA's:1406  \n",
       " Max.   :480.00   Max.   :738.000                                       \n",
       "                                                                        \n",
       "    MiscVal             MoSold           YrSold        SaleType   \n",
       " Min.   :    0.00   Min.   : 1.000   Min.   :2006   WD     :1267  \n",
       " 1st Qu.:    0.00   1st Qu.: 5.000   1st Qu.:2007   New    : 122  \n",
       " Median :    0.00   Median : 6.000   Median :2008   COD    :  43  \n",
       " Mean   :   43.49   Mean   : 6.322   Mean   :2008   ConLD  :   9  \n",
       " 3rd Qu.:    0.00   3rd Qu.: 8.000   3rd Qu.:2009   ConLI  :   5  \n",
       " Max.   :15500.00   Max.   :12.000   Max.   :2010   ConLw  :   5  \n",
       "                                                    (Other):   9  \n",
       " SaleCondition    SalePrice     \n",
       " Abnorml: 101   Min.   : 34900  \n",
       " AdjLand:   4   1st Qu.:129975  \n",
       " Alloca :  12   Median :163000  \n",
       " Family :  20   Mean   :180921  \n",
       " Normal :1198   3rd Qu.:214000  \n",
       " Partial: 125   Max.   :755000  \n",
       "                                "
      ]
     },
     "metadata": {},
     "output_type": "display_data"
    }
   ],
   "source": [
    "summary(housing_data)"
   ]
  },
  {
   "cell_type": "markdown",
   "id": "4c995677-ea75-4bce-8d4e-42e7e1b5f0ec",
   "metadata": {},
   "source": [
    "*Table 1.1 Summary statistics for the housing dataset*\n",
    "\n",
    "**Interpretation:** We observe there are many columns in the dataset, including the presence of both numerical and categorical variables."
   ]
  },
  {
   "cell_type": "markdown",
   "id": "f3f1cbe6-0826-40dd-8ff6-f6312dc8b360",
   "metadata": {},
   "source": [
    "## 2. Methods"
   ]
  },
  {
   "cell_type": "markdown",
   "id": "fa3fa0fa-f489-4f2f-8d44-b79554ca6325",
   "metadata": {},
   "source": [
    "#### *Overview*\n",
    "\n",
    "To restate the goal of the project, we hope to be able to identify a strong predictive model given the extensive data and number of possible models with varying amounts of predictors. Through this process we also hope to identify a set of predictors that make part of a strong predictive model of housing prices in Ames, Iowa, along with what role these predictors play in our model. With our findings, market agents (i.e. buyers, sellers, realtors, etc.) in the Ames housing market will be able to get insight into predictive pricing for their homes, given a selected number of key characteristics (our predictors).\n",
    "\n",
    "To achieve our goal, we employed several statistical techniques to analyze the data and build a predictive model. In this section of the report, we will provide a detailed description of our methods with corresponding code and outputs.\n",
    "\n",
    "#### *Ways to Secure Trustworthiness*\n",
    "\n",
    "To begin, the data we use comes from real-world sales in Ames, Iowa, and was collected by the American Statistical Association for use in data sciences. This means that each sale is highly authentic. Second, we are investigating a dataset with a significant amount of data (1460 rows). Third, we'll do feature selection, model selection, and best practices like checking for model assumption violations, goodness of model, and so on.\n",
    "\n",
    "#### *Continuing from Previous Steps*\n",
    "\n",
    "We made a heatmap of the variables and a histogram of the sale price to see how they relate, but this isn't enough for us to make predictions. As a result, we intend to train a model that captures the relationship between the variables in order to accurately predict the sale price. Going forward, we plan to make use of the model selection methods to optimize our selected model subject to training data. We will be working with a split data set (training and testing data) to be able to build a predictive model with the training set and measure the performance of our predictive model with the testing set. \n"
   ]
  },
  {
   "cell_type": "markdown",
   "id": "f98166a4-8e19-44c6-ba6a-954d0d57202e",
   "metadata": {},
   "source": [
    "#### 2.1 - Variable Selection Using LASSO\n",
    "\n",
    "One of the first steps in our analysis was to identify the most important variables for predicting housing prices. We used the LASSO method, which is a type of regularization that helps to eliminate unnecessary variables and improve model performance by minimizing the complexity of the model. LASSO works by adding a penalty term to the objective function of the model, which encourages the model to select a smaller number of variables that are more relevant to the outcome.\n",
    "\n",
    "We recognize that other mothods are available that may improve prediction power, however we want our model to also be relatively interpretable as it would be intended to be used by people that aren't necessarily familiar with model interpretation. LASSO helps us with this by eliminating variables and only selecting those with high prediction power, therefore we believe it fits our use case best by improving interpretability while maintaining strong predictive power."
   ]
  },
  {
   "cell_type": "markdown",
   "id": "87ac8fe2-f6c1-4491-ae46-6b10fa4dc039",
   "metadata": {},
   "source": [
    "Let's drop the columns that contain NA values so that lasso works."
   ]
  },
  {
   "cell_type": "code",
   "execution_count": 7,
   "id": "3f8d2acb-f5da-43e2-96cc-ff55730b201f",
   "metadata": {
    "vscode": {
     "languageId": "r"
    }
   },
   "outputs": [
    {
     "data": {
      "text/html": [
       "<style>\n",
       ".list-inline {list-style: none; margin:0; padding: 0}\n",
       ".list-inline>li {display: inline-block}\n",
       ".list-inline>li:not(:last-child)::after {content: \"\\00b7\"; padding: 0 .5ex}\n",
       "</style>\n",
       "<ol class=list-inline><li>1460</li><li>62</li></ol>\n"
      ],
      "text/latex": [
       "\\begin{enumerate*}\n",
       "\\item 1460\n",
       "\\item 62\n",
       "\\end{enumerate*}\n"
      ],
      "text/markdown": [
       "1. 1460\n",
       "2. 62\n",
       "\n",
       "\n"
      ],
      "text/plain": [
       "[1] 1460   62"
      ]
     },
     "metadata": {},
     "output_type": "display_data"
    },
    {
     "data": {
      "text/html": [
       "'There are 0 missing values in the dataset'"
      ],
      "text/latex": [
       "'There are 0 missing values in the dataset'"
      ],
      "text/markdown": [
       "'There are 0 missing values in the dataset'"
      ],
      "text/plain": [
       "[1] \"There are 0 missing values in the dataset\""
      ]
     },
     "metadata": {},
     "output_type": "display_data"
    }
   ],
   "source": [
    "housing_data <- housing_data %>%\n",
    "    select_if(~ !any(is.na(.)))\n",
    "\n",
    "# Get the dimension of the new dataframe and check for NA values again\n",
    "dim(housing_data)\n",
    "total_missing_values <- sum(is.na(housing_data))\n",
    "paste(\"There are\", total_missing_values ,\"missing values in the dataset\")"
   ]
  },
  {
   "cell_type": "code",
   "execution_count": 8,
   "id": "4eb0eca8-84f1-4268-bee5-6a39d5cf83a1",
   "metadata": {
    "vscode": {
     "languageId": "r"
    }
   },
   "outputs": [
    {
     "data": {
      "text/html": [
       "<table class=\"dataframe\">\n",
       "<caption>A tibble: 6 × 62</caption>\n",
       "<thead>\n",
       "\t<tr><th scope=col>Id</th><th scope=col>MSSubClass</th><th scope=col>MSZoning</th><th scope=col>LotArea</th><th scope=col>Street</th><th scope=col>LotShape</th><th scope=col>LandContour</th><th scope=col>Utilities</th><th scope=col>LotConfig</th><th scope=col>LandSlope</th><th scope=col>⋯</th><th scope=col>EnclosedPorch</th><th scope=col>3SsnPorch</th><th scope=col>ScreenPorch</th><th scope=col>PoolArea</th><th scope=col>MiscVal</th><th scope=col>MoSold</th><th scope=col>YrSold</th><th scope=col>SaleType</th><th scope=col>SaleCondition</th><th scope=col>SalePrice</th></tr>\n",
       "\t<tr><th scope=col>&lt;int&gt;</th><th scope=col>&lt;dbl&gt;</th><th scope=col>&lt;fct&gt;</th><th scope=col>&lt;dbl&gt;</th><th scope=col>&lt;fct&gt;</th><th scope=col>&lt;fct&gt;</th><th scope=col>&lt;fct&gt;</th><th scope=col>&lt;fct&gt;</th><th scope=col>&lt;fct&gt;</th><th scope=col>&lt;fct&gt;</th><th scope=col>⋯</th><th scope=col>&lt;dbl&gt;</th><th scope=col>&lt;dbl&gt;</th><th scope=col>&lt;dbl&gt;</th><th scope=col>&lt;dbl&gt;</th><th scope=col>&lt;dbl&gt;</th><th scope=col>&lt;dbl&gt;</th><th scope=col>&lt;dbl&gt;</th><th scope=col>&lt;fct&gt;</th><th scope=col>&lt;fct&gt;</th><th scope=col>&lt;dbl&gt;</th></tr>\n",
       "</thead>\n",
       "<tbody>\n",
       "\t<tr><td>1308</td><td> 20</td><td>RL</td><td> 8072</td><td>Pave</td><td>Reg</td><td>Lvl</td><td>AllPub</td><td>Inside </td><td>Gtl</td><td>⋯</td><td>0</td><td>0</td><td>0</td><td>0</td><td>0</td><td>5</td><td>2009</td><td>WD </td><td>Normal </td><td>138000</td></tr>\n",
       "\t<tr><td>1018</td><td>120</td><td>RL</td><td> 5814</td><td>Pave</td><td>IR1</td><td>Lvl</td><td>AllPub</td><td>CulDSac</td><td>Gtl</td><td>⋯</td><td>0</td><td>0</td><td>0</td><td>0</td><td>0</td><td>8</td><td>2009</td><td>COD</td><td>Abnorml</td><td>187500</td></tr>\n",
       "\t<tr><td>1125</td><td> 80</td><td>RL</td><td> 9125</td><td>Pave</td><td>IR1</td><td>Lvl</td><td>AllPub</td><td>Inside </td><td>Gtl</td><td>⋯</td><td>0</td><td>0</td><td>0</td><td>0</td><td>0</td><td>7</td><td>2007</td><td>WD </td><td>Normal </td><td>163900</td></tr>\n",
       "\t<tr><td>1004</td><td> 90</td><td>RL</td><td>11500</td><td>Pave</td><td>IR1</td><td>Lvl</td><td>AllPub</td><td>Corner </td><td>Gtl</td><td>⋯</td><td>0</td><td>0</td><td>0</td><td>0</td><td>0</td><td>6</td><td>2007</td><td>WD </td><td>Normal </td><td>136905</td></tr>\n",
       "\t<tr><td> 623</td><td> 20</td><td>RL</td><td> 7064</td><td>Pave</td><td>Reg</td><td>Lvl</td><td>AllPub</td><td>Inside </td><td>Gtl</td><td>⋯</td><td>0</td><td>0</td><td>0</td><td>0</td><td>0</td><td>7</td><td>2009</td><td>WD </td><td>Normal </td><td>135000</td></tr>\n",
       "\t<tr><td> 905</td><td> 20</td><td>RL</td><td> 6173</td><td>Pave</td><td>IR1</td><td>Lvl</td><td>AllPub</td><td>Inside </td><td>Gtl</td><td>⋯</td><td>0</td><td>0</td><td>0</td><td>0</td><td>0</td><td>8</td><td>2007</td><td>WD </td><td>Normal </td><td>125500</td></tr>\n",
       "</tbody>\n",
       "</table>\n"
      ],
      "text/latex": [
       "A tibble: 6 × 62\n",
       "\\begin{tabular}{lllllllllllllllllllll}\n",
       " Id & MSSubClass & MSZoning & LotArea & Street & LotShape & LandContour & Utilities & LotConfig & LandSlope & ⋯ & EnclosedPorch & 3SsnPorch & ScreenPorch & PoolArea & MiscVal & MoSold & YrSold & SaleType & SaleCondition & SalePrice\\\\\n",
       " <int> & <dbl> & <fct> & <dbl> & <fct> & <fct> & <fct> & <fct> & <fct> & <fct> & ⋯ & <dbl> & <dbl> & <dbl> & <dbl> & <dbl> & <dbl> & <dbl> & <fct> & <fct> & <dbl>\\\\\n",
       "\\hline\n",
       "\t 1308 &  20 & RL &  8072 & Pave & Reg & Lvl & AllPub & Inside  & Gtl & ⋯ & 0 & 0 & 0 & 0 & 0 & 5 & 2009 & WD  & Normal  & 138000\\\\\n",
       "\t 1018 & 120 & RL &  5814 & Pave & IR1 & Lvl & AllPub & CulDSac & Gtl & ⋯ & 0 & 0 & 0 & 0 & 0 & 8 & 2009 & COD & Abnorml & 187500\\\\\n",
       "\t 1125 &  80 & RL &  9125 & Pave & IR1 & Lvl & AllPub & Inside  & Gtl & ⋯ & 0 & 0 & 0 & 0 & 0 & 7 & 2007 & WD  & Normal  & 163900\\\\\n",
       "\t 1004 &  90 & RL & 11500 & Pave & IR1 & Lvl & AllPub & Corner  & Gtl & ⋯ & 0 & 0 & 0 & 0 & 0 & 6 & 2007 & WD  & Normal  & 136905\\\\\n",
       "\t  623 &  20 & RL &  7064 & Pave & Reg & Lvl & AllPub & Inside  & Gtl & ⋯ & 0 & 0 & 0 & 0 & 0 & 7 & 2009 & WD  & Normal  & 135000\\\\\n",
       "\t  905 &  20 & RL &  6173 & Pave & IR1 & Lvl & AllPub & Inside  & Gtl & ⋯ & 0 & 0 & 0 & 0 & 0 & 8 & 2007 & WD  & Normal  & 125500\\\\\n",
       "\\end{tabular}\n"
      ],
      "text/markdown": [
       "\n",
       "A tibble: 6 × 62\n",
       "\n",
       "| Id &lt;int&gt; | MSSubClass &lt;dbl&gt; | MSZoning &lt;fct&gt; | LotArea &lt;dbl&gt; | Street &lt;fct&gt; | LotShape &lt;fct&gt; | LandContour &lt;fct&gt; | Utilities &lt;fct&gt; | LotConfig &lt;fct&gt; | LandSlope &lt;fct&gt; | ⋯ ⋯ | EnclosedPorch &lt;dbl&gt; | 3SsnPorch &lt;dbl&gt; | ScreenPorch &lt;dbl&gt; | PoolArea &lt;dbl&gt; | MiscVal &lt;dbl&gt; | MoSold &lt;dbl&gt; | YrSold &lt;dbl&gt; | SaleType &lt;fct&gt; | SaleCondition &lt;fct&gt; | SalePrice &lt;dbl&gt; |\n",
       "|---|---|---|---|---|---|---|---|---|---|---|---|---|---|---|---|---|---|---|---|---|\n",
       "| 1308 |  20 | RL |  8072 | Pave | Reg | Lvl | AllPub | Inside  | Gtl | ⋯ | 0 | 0 | 0 | 0 | 0 | 5 | 2009 | WD  | Normal  | 138000 |\n",
       "| 1018 | 120 | RL |  5814 | Pave | IR1 | Lvl | AllPub | CulDSac | Gtl | ⋯ | 0 | 0 | 0 | 0 | 0 | 8 | 2009 | COD | Abnorml | 187500 |\n",
       "| 1125 |  80 | RL |  9125 | Pave | IR1 | Lvl | AllPub | Inside  | Gtl | ⋯ | 0 | 0 | 0 | 0 | 0 | 7 | 2007 | WD  | Normal  | 163900 |\n",
       "| 1004 |  90 | RL | 11500 | Pave | IR1 | Lvl | AllPub | Corner  | Gtl | ⋯ | 0 | 0 | 0 | 0 | 0 | 6 | 2007 | WD  | Normal  | 136905 |\n",
       "|  623 |  20 | RL |  7064 | Pave | Reg | Lvl | AllPub | Inside  | Gtl | ⋯ | 0 | 0 | 0 | 0 | 0 | 7 | 2009 | WD  | Normal  | 135000 |\n",
       "|  905 |  20 | RL |  6173 | Pave | IR1 | Lvl | AllPub | Inside  | Gtl | ⋯ | 0 | 0 | 0 | 0 | 0 | 8 | 2007 | WD  | Normal  | 125500 |\n",
       "\n"
      ],
      "text/plain": [
       "  Id   MSSubClass MSZoning LotArea Street LotShape LandContour Utilities\n",
       "1 1308  20        RL        8072   Pave   Reg      Lvl         AllPub   \n",
       "2 1018 120        RL        5814   Pave   IR1      Lvl         AllPub   \n",
       "3 1125  80        RL        9125   Pave   IR1      Lvl         AllPub   \n",
       "4 1004  90        RL       11500   Pave   IR1      Lvl         AllPub   \n",
       "5  623  20        RL        7064   Pave   Reg      Lvl         AllPub   \n",
       "6  905  20        RL        6173   Pave   IR1      Lvl         AllPub   \n",
       "  LotConfig LandSlope ⋯ EnclosedPorch 3SsnPorch ScreenPorch PoolArea MiscVal\n",
       "1 Inside    Gtl       ⋯ 0             0         0           0        0      \n",
       "2 CulDSac   Gtl       ⋯ 0             0         0           0        0      \n",
       "3 Inside    Gtl       ⋯ 0             0         0           0        0      \n",
       "4 Corner    Gtl       ⋯ 0             0         0           0        0      \n",
       "5 Inside    Gtl       ⋯ 0             0         0           0        0      \n",
       "6 Inside    Gtl       ⋯ 0             0         0           0        0      \n",
       "  MoSold YrSold SaleType SaleCondition SalePrice\n",
       "1 5      2009   WD       Normal        138000   \n",
       "2 8      2009   COD      Abnorml       187500   \n",
       "3 7      2007   WD       Normal        163900   \n",
       "4 6      2007   WD       Normal        136905   \n",
       "5 7      2009   WD       Normal        135000   \n",
       "6 8      2007   WD       Normal        125500   "
      ]
     },
     "metadata": {},
     "output_type": "display_data"
    },
    {
     "data": {
      "text/html": [
       "<style>\n",
       ".list-inline {list-style: none; margin:0; padding: 0}\n",
       ".list-inline>li {display: inline-block}\n",
       ".list-inline>li:not(:last-child)::after {content: \"\\00b7\"; padding: 0 .5ex}\n",
       "</style>\n",
       "<ol class=list-inline><li>1021</li><li>62</li></ol>\n"
      ],
      "text/latex": [
       "\\begin{enumerate*}\n",
       "\\item 1021\n",
       "\\item 62\n",
       "\\end{enumerate*}\n"
      ],
      "text/markdown": [
       "1. 1021\n",
       "2. 62\n",
       "\n",
       "\n"
      ],
      "text/plain": [
       "[1] 1021   62"
      ]
     },
     "metadata": {},
     "output_type": "display_data"
    },
    {
     "data": {
      "text/html": [
       "<table class=\"dataframe\">\n",
       "<caption>A tibble: 6 × 62</caption>\n",
       "<thead>\n",
       "\t<tr><th scope=col>Id</th><th scope=col>MSSubClass</th><th scope=col>MSZoning</th><th scope=col>LotArea</th><th scope=col>Street</th><th scope=col>LotShape</th><th scope=col>LandContour</th><th scope=col>Utilities</th><th scope=col>LotConfig</th><th scope=col>LandSlope</th><th scope=col>⋯</th><th scope=col>EnclosedPorch</th><th scope=col>3SsnPorch</th><th scope=col>ScreenPorch</th><th scope=col>PoolArea</th><th scope=col>MiscVal</th><th scope=col>MoSold</th><th scope=col>YrSold</th><th scope=col>SaleType</th><th scope=col>SaleCondition</th><th scope=col>SalePrice</th></tr>\n",
       "\t<tr><th scope=col>&lt;int&gt;</th><th scope=col>&lt;dbl&gt;</th><th scope=col>&lt;fct&gt;</th><th scope=col>&lt;dbl&gt;</th><th scope=col>&lt;fct&gt;</th><th scope=col>&lt;fct&gt;</th><th scope=col>&lt;fct&gt;</th><th scope=col>&lt;fct&gt;</th><th scope=col>&lt;fct&gt;</th><th scope=col>&lt;fct&gt;</th><th scope=col>⋯</th><th scope=col>&lt;dbl&gt;</th><th scope=col>&lt;dbl&gt;</th><th scope=col>&lt;dbl&gt;</th><th scope=col>&lt;dbl&gt;</th><th scope=col>&lt;dbl&gt;</th><th scope=col>&lt;dbl&gt;</th><th scope=col>&lt;dbl&gt;</th><th scope=col>&lt;fct&gt;</th><th scope=col>&lt;fct&gt;</th><th scope=col>&lt;dbl&gt;</th></tr>\n",
       "</thead>\n",
       "<tbody>\n",
       "\t<tr><td> 1</td><td>60</td><td>RL</td><td> 8450</td><td>Pave</td><td>Reg</td><td>Lvl</td><td>AllPub</td><td>Inside</td><td>Gtl</td><td>⋯</td><td>  0</td><td>0</td><td>0</td><td>0</td><td>  0</td><td> 2</td><td>2008</td><td>WD </td><td>Normal </td><td>208500</td></tr>\n",
       "\t<tr><td> 2</td><td>20</td><td>RL</td><td> 9600</td><td>Pave</td><td>Reg</td><td>Lvl</td><td>AllPub</td><td>FR2   </td><td>Gtl</td><td>⋯</td><td>  0</td><td>0</td><td>0</td><td>0</td><td>  0</td><td> 5</td><td>2007</td><td>WD </td><td>Normal </td><td>181500</td></tr>\n",
       "\t<tr><td> 5</td><td>60</td><td>RL</td><td>14260</td><td>Pave</td><td>IR1</td><td>Lvl</td><td>AllPub</td><td>FR2   </td><td>Gtl</td><td>⋯</td><td>  0</td><td>0</td><td>0</td><td>0</td><td>  0</td><td>12</td><td>2008</td><td>WD </td><td>Normal </td><td>250000</td></tr>\n",
       "\t<tr><td> 7</td><td>20</td><td>RL</td><td>10084</td><td>Pave</td><td>Reg</td><td>Lvl</td><td>AllPub</td><td>Inside</td><td>Gtl</td><td>⋯</td><td>  0</td><td>0</td><td>0</td><td>0</td><td>  0</td><td> 8</td><td>2007</td><td>WD </td><td>Normal </td><td>307000</td></tr>\n",
       "\t<tr><td> 8</td><td>60</td><td>RL</td><td>10382</td><td>Pave</td><td>IR1</td><td>Lvl</td><td>AllPub</td><td>Corner</td><td>Gtl</td><td>⋯</td><td>228</td><td>0</td><td>0</td><td>0</td><td>350</td><td>11</td><td>2009</td><td>WD </td><td>Normal </td><td>200000</td></tr>\n",
       "\t<tr><td>12</td><td>60</td><td>RL</td><td>11924</td><td>Pave</td><td>IR1</td><td>Lvl</td><td>AllPub</td><td>Inside</td><td>Gtl</td><td>⋯</td><td>  0</td><td>0</td><td>0</td><td>0</td><td>  0</td><td> 7</td><td>2006</td><td>New</td><td>Partial</td><td>345000</td></tr>\n",
       "</tbody>\n",
       "</table>\n"
      ],
      "text/latex": [
       "A tibble: 6 × 62\n",
       "\\begin{tabular}{lllllllllllllllllllll}\n",
       " Id & MSSubClass & MSZoning & LotArea & Street & LotShape & LandContour & Utilities & LotConfig & LandSlope & ⋯ & EnclosedPorch & 3SsnPorch & ScreenPorch & PoolArea & MiscVal & MoSold & YrSold & SaleType & SaleCondition & SalePrice\\\\\n",
       " <int> & <dbl> & <fct> & <dbl> & <fct> & <fct> & <fct> & <fct> & <fct> & <fct> & ⋯ & <dbl> & <dbl> & <dbl> & <dbl> & <dbl> & <dbl> & <dbl> & <fct> & <fct> & <dbl>\\\\\n",
       "\\hline\n",
       "\t  1 & 60 & RL &  8450 & Pave & Reg & Lvl & AllPub & Inside & Gtl & ⋯ &   0 & 0 & 0 & 0 &   0 &  2 & 2008 & WD  & Normal  & 208500\\\\\n",
       "\t  2 & 20 & RL &  9600 & Pave & Reg & Lvl & AllPub & FR2    & Gtl & ⋯ &   0 & 0 & 0 & 0 &   0 &  5 & 2007 & WD  & Normal  & 181500\\\\\n",
       "\t  5 & 60 & RL & 14260 & Pave & IR1 & Lvl & AllPub & FR2    & Gtl & ⋯ &   0 & 0 & 0 & 0 &   0 & 12 & 2008 & WD  & Normal  & 250000\\\\\n",
       "\t  7 & 20 & RL & 10084 & Pave & Reg & Lvl & AllPub & Inside & Gtl & ⋯ &   0 & 0 & 0 & 0 &   0 &  8 & 2007 & WD  & Normal  & 307000\\\\\n",
       "\t  8 & 60 & RL & 10382 & Pave & IR1 & Lvl & AllPub & Corner & Gtl & ⋯ & 228 & 0 & 0 & 0 & 350 & 11 & 2009 & WD  & Normal  & 200000\\\\\n",
       "\t 12 & 60 & RL & 11924 & Pave & IR1 & Lvl & AllPub & Inside & Gtl & ⋯ &   0 & 0 & 0 & 0 &   0 &  7 & 2006 & New & Partial & 345000\\\\\n",
       "\\end{tabular}\n"
      ],
      "text/markdown": [
       "\n",
       "A tibble: 6 × 62\n",
       "\n",
       "| Id &lt;int&gt; | MSSubClass &lt;dbl&gt; | MSZoning &lt;fct&gt; | LotArea &lt;dbl&gt; | Street &lt;fct&gt; | LotShape &lt;fct&gt; | LandContour &lt;fct&gt; | Utilities &lt;fct&gt; | LotConfig &lt;fct&gt; | LandSlope &lt;fct&gt; | ⋯ ⋯ | EnclosedPorch &lt;dbl&gt; | 3SsnPorch &lt;dbl&gt; | ScreenPorch &lt;dbl&gt; | PoolArea &lt;dbl&gt; | MiscVal &lt;dbl&gt; | MoSold &lt;dbl&gt; | YrSold &lt;dbl&gt; | SaleType &lt;fct&gt; | SaleCondition &lt;fct&gt; | SalePrice &lt;dbl&gt; |\n",
       "|---|---|---|---|---|---|---|---|---|---|---|---|---|---|---|---|---|---|---|---|---|\n",
       "|  1 | 60 | RL |  8450 | Pave | Reg | Lvl | AllPub | Inside | Gtl | ⋯ |   0 | 0 | 0 | 0 |   0 |  2 | 2008 | WD  | Normal  | 208500 |\n",
       "|  2 | 20 | RL |  9600 | Pave | Reg | Lvl | AllPub | FR2    | Gtl | ⋯ |   0 | 0 | 0 | 0 |   0 |  5 | 2007 | WD  | Normal  | 181500 |\n",
       "|  5 | 60 | RL | 14260 | Pave | IR1 | Lvl | AllPub | FR2    | Gtl | ⋯ |   0 | 0 | 0 | 0 |   0 | 12 | 2008 | WD  | Normal  | 250000 |\n",
       "|  7 | 20 | RL | 10084 | Pave | Reg | Lvl | AllPub | Inside | Gtl | ⋯ |   0 | 0 | 0 | 0 |   0 |  8 | 2007 | WD  | Normal  | 307000 |\n",
       "|  8 | 60 | RL | 10382 | Pave | IR1 | Lvl | AllPub | Corner | Gtl | ⋯ | 228 | 0 | 0 | 0 | 350 | 11 | 2009 | WD  | Normal  | 200000 |\n",
       "| 12 | 60 | RL | 11924 | Pave | IR1 | Lvl | AllPub | Inside | Gtl | ⋯ |   0 | 0 | 0 | 0 |   0 |  7 | 2006 | New | Partial | 345000 |\n",
       "\n"
      ],
      "text/plain": [
       "  Id MSSubClass MSZoning LotArea Street LotShape LandContour Utilities\n",
       "1  1 60         RL        8450   Pave   Reg      Lvl         AllPub   \n",
       "2  2 20         RL        9600   Pave   Reg      Lvl         AllPub   \n",
       "3  5 60         RL       14260   Pave   IR1      Lvl         AllPub   \n",
       "4  7 20         RL       10084   Pave   Reg      Lvl         AllPub   \n",
       "5  8 60         RL       10382   Pave   IR1      Lvl         AllPub   \n",
       "6 12 60         RL       11924   Pave   IR1      Lvl         AllPub   \n",
       "  LotConfig LandSlope ⋯ EnclosedPorch 3SsnPorch ScreenPorch PoolArea MiscVal\n",
       "1 Inside    Gtl       ⋯   0           0         0           0          0    \n",
       "2 FR2       Gtl       ⋯   0           0         0           0          0    \n",
       "3 FR2       Gtl       ⋯   0           0         0           0          0    \n",
       "4 Inside    Gtl       ⋯   0           0         0           0          0    \n",
       "5 Corner    Gtl       ⋯ 228           0         0           0        350    \n",
       "6 Inside    Gtl       ⋯   0           0         0           0          0    \n",
       "  MoSold YrSold SaleType SaleCondition SalePrice\n",
       "1  2     2008   WD       Normal        208500   \n",
       "2  5     2007   WD       Normal        181500   \n",
       "3 12     2008   WD       Normal        250000   \n",
       "4  8     2007   WD       Normal        307000   \n",
       "5 11     2009   WD       Normal        200000   \n",
       "6  7     2006   New      Partial       345000   "
      ]
     },
     "metadata": {},
     "output_type": "display_data"
    },
    {
     "data": {
      "text/html": [
       "<style>\n",
       ".list-inline {list-style: none; margin:0; padding: 0}\n",
       ".list-inline>li {display: inline-block}\n",
       ".list-inline>li:not(:last-child)::after {content: \"\\00b7\"; padding: 0 .5ex}\n",
       "</style>\n",
       "<ol class=list-inline><li>439</li><li>62</li></ol>\n"
      ],
      "text/latex": [
       "\\begin{enumerate*}\n",
       "\\item 439\n",
       "\\item 62\n",
       "\\end{enumerate*}\n"
      ],
      "text/markdown": [
       "1. 439\n",
       "2. 62\n",
       "\n",
       "\n"
      ],
      "text/plain": [
       "[1] 439  62"
      ]
     },
     "metadata": {},
     "output_type": "display_data"
    }
   ],
   "source": [
    "# Creating the train and test split\n",
    "set.seed(1234)\n",
    "\n",
    "housing_data$Id <- 1:nrow(housing_data)\n",
    "housing_train <- sample_n(housing_data, size = nrow(housing_data) * 0.70, replace = FALSE)\n",
    "housing_test <- anti_join(housing_data, housing_train, by = \"Id\")\n",
    "\n",
    "# Viewing the train and test datasets and gitting the size of the dataframes\n",
    "head(housing_train)\n",
    "dim(housing_train)\n",
    "head(housing_test)\n",
    "dim(housing_test)"
   ]
  },
  {
   "cell_type": "markdown",
   "id": "2c9bfe94-1530-4514-9bae-27419efb810b",
   "metadata": {},
   "source": [
    "Now lets split our dataset into two subsets, one for variable selection and another for out-of-sample testing later on. We will need the former in order to run our LASSO regression and select our variables for the resulting model, and the latter in order to test our model against data it has not seen before. This will be necesary in order to ensure we are not compromising our model with a biased result."
   ]
  },
  {
   "cell_type": "code",
   "execution_count": 9,
   "id": "be458c73-40e2-49a1-bb8d-5b8b0fe847ef",
   "metadata": {
    "vscode": {
     "languageId": "r"
    }
   },
   "outputs": [],
   "source": [
    "# Split the data into predictor and response variables\n",
    "x_train <- housing_train %>% select(-SalePrice) %>% data.matrix()\n",
    "y_train <- housing_train %>% select(SalePrice) %>% data.matrix()\n",
    "\n",
    "x_test <- housing_test %>% select(-SalePrice) %>% data.matrix()\n",
    "y_test <- housing_test %>% select(SalePrice) %>% data.matrix()\n",
    "# Fit the lasso model using 10-fold cross-validation\n",
    "fit <- cv.glmnet(x_train, y_train, alpha = 1, nfolds = 10)"
   ]
  },
  {
   "cell_type": "markdown",
   "id": "b5dcefe3-9d7c-4cb8-b9f3-0b583e468519",
   "metadata": {},
   "source": [
    "We now need to create dummy variables for LASSO to interpret properly in our model"
   ]
  },
  {
   "cell_type": "code",
   "execution_count": 10,
   "id": "9b52fdff",
   "metadata": {
    "vscode": {
     "languageId": "r"
    }
   },
   "outputs": [
    {
     "data": {
      "text/html": [
       "<style>\n",
       ".list-inline {list-style: none; margin:0; padding: 0}\n",
       ".list-inline>li {display: inline-block}\n",
       ".list-inline>li:not(:last-child)::after {content: \"\\00b7\"; padding: 0 .5ex}\n",
       "</style>\n",
       "<ol class=list-inline><li>1460</li><li>62</li></ol>\n"
      ],
      "text/latex": [
       "\\begin{enumerate*}\n",
       "\\item 1460\n",
       "\\item 62\n",
       "\\end{enumerate*}\n"
      ],
      "text/markdown": [
       "1. 1460\n",
       "2. 62\n",
       "\n",
       "\n"
      ],
      "text/plain": [
       "[1] 1460   62"
      ]
     },
     "metadata": {},
     "output_type": "display_data"
    },
    {
     "data": {
      "text/html": [
       "'There are 0 missing values in the dataset'"
      ],
      "text/latex": [
       "'There are 0 missing values in the dataset'"
      ],
      "text/markdown": [
       "'There are 0 missing values in the dataset'"
      ],
      "text/plain": [
       "[1] \"There are 0 missing values in the dataset\""
      ]
     },
     "metadata": {},
     "output_type": "display_data"
    },
    {
     "data": {
      "text/html": [
       "<table class=\"dataframe\">\n",
       "<caption>A data.frame: 6 × 183</caption>\n",
       "<thead>\n",
       "\t<tr><th></th><th scope=col>MSZoningC..all.</th><th scope=col>MSZoningFV</th><th scope=col>MSZoningRH</th><th scope=col>MSZoningRL</th><th scope=col>MSZoningRM</th><th scope=col>StreetGrvl</th><th scope=col>StreetPave</th><th scope=col>LotShapeIR1</th><th scope=col>LotShapeIR2</th><th scope=col>LotShapeIR3</th><th scope=col>⋯</th><th scope=col>SaleTypeNew</th><th scope=col>SaleTypeOth</th><th scope=col>SaleTypeWD</th><th scope=col>SaleConditionAbnorml</th><th scope=col>SaleConditionAdjLand</th><th scope=col>SaleConditionAlloca</th><th scope=col>SaleConditionFamily</th><th scope=col>SaleConditionNormal</th><th scope=col>SaleConditionPartial</th><th scope=col>Id</th></tr>\n",
       "\t<tr><th></th><th scope=col>&lt;fct&gt;</th><th scope=col>&lt;fct&gt;</th><th scope=col>&lt;fct&gt;</th><th scope=col>&lt;fct&gt;</th><th scope=col>&lt;fct&gt;</th><th scope=col>&lt;fct&gt;</th><th scope=col>&lt;fct&gt;</th><th scope=col>&lt;fct&gt;</th><th scope=col>&lt;fct&gt;</th><th scope=col>&lt;fct&gt;</th><th scope=col>⋯</th><th scope=col>&lt;fct&gt;</th><th scope=col>&lt;fct&gt;</th><th scope=col>&lt;fct&gt;</th><th scope=col>&lt;fct&gt;</th><th scope=col>&lt;fct&gt;</th><th scope=col>&lt;fct&gt;</th><th scope=col>&lt;fct&gt;</th><th scope=col>&lt;fct&gt;</th><th scope=col>&lt;fct&gt;</th><th scope=col>&lt;fct&gt;</th></tr>\n",
       "</thead>\n",
       "<tbody>\n",
       "\t<tr><th scope=row>1</th><td>0</td><td>0</td><td>0</td><td>1</td><td>0</td><td>0</td><td>1</td><td>0</td><td>0</td><td>0</td><td>⋯</td><td>0</td><td>0</td><td>1</td><td>0</td><td>0</td><td>0</td><td>0</td><td>1</td><td>0</td><td>1</td></tr>\n",
       "\t<tr><th scope=row>2</th><td>0</td><td>0</td><td>0</td><td>1</td><td>0</td><td>0</td><td>1</td><td>0</td><td>0</td><td>0</td><td>⋯</td><td>0</td><td>0</td><td>1</td><td>0</td><td>0</td><td>0</td><td>0</td><td>1</td><td>0</td><td>2</td></tr>\n",
       "\t<tr><th scope=row>3</th><td>0</td><td>0</td><td>0</td><td>1</td><td>0</td><td>0</td><td>1</td><td>1</td><td>0</td><td>0</td><td>⋯</td><td>0</td><td>0</td><td>1</td><td>0</td><td>0</td><td>0</td><td>0</td><td>1</td><td>0</td><td>3</td></tr>\n",
       "\t<tr><th scope=row>4</th><td>0</td><td>0</td><td>0</td><td>1</td><td>0</td><td>0</td><td>1</td><td>1</td><td>0</td><td>0</td><td>⋯</td><td>0</td><td>0</td><td>1</td><td>1</td><td>0</td><td>0</td><td>0</td><td>0</td><td>0</td><td>4</td></tr>\n",
       "\t<tr><th scope=row>5</th><td>0</td><td>0</td><td>0</td><td>1</td><td>0</td><td>0</td><td>1</td><td>1</td><td>0</td><td>0</td><td>⋯</td><td>0</td><td>0</td><td>1</td><td>0</td><td>0</td><td>0</td><td>0</td><td>1</td><td>0</td><td>5</td></tr>\n",
       "\t<tr><th scope=row>6</th><td>0</td><td>0</td><td>0</td><td>1</td><td>0</td><td>0</td><td>1</td><td>1</td><td>0</td><td>0</td><td>⋯</td><td>0</td><td>0</td><td>1</td><td>0</td><td>0</td><td>0</td><td>0</td><td>1</td><td>0</td><td>6</td></tr>\n",
       "</tbody>\n",
       "</table>\n"
      ],
      "text/latex": [
       "A data.frame: 6 × 183\n",
       "\\begin{tabular}{r|lllllllllllllllllllll}\n",
       "  & MSZoningC..all. & MSZoningFV & MSZoningRH & MSZoningRL & MSZoningRM & StreetGrvl & StreetPave & LotShapeIR1 & LotShapeIR2 & LotShapeIR3 & ⋯ & SaleTypeNew & SaleTypeOth & SaleTypeWD & SaleConditionAbnorml & SaleConditionAdjLand & SaleConditionAlloca & SaleConditionFamily & SaleConditionNormal & SaleConditionPartial & Id\\\\\n",
       "  & <fct> & <fct> & <fct> & <fct> & <fct> & <fct> & <fct> & <fct> & <fct> & <fct> & ⋯ & <fct> & <fct> & <fct> & <fct> & <fct> & <fct> & <fct> & <fct> & <fct> & <fct>\\\\\n",
       "\\hline\n",
       "\t1 & 0 & 0 & 0 & 1 & 0 & 0 & 1 & 0 & 0 & 0 & ⋯ & 0 & 0 & 1 & 0 & 0 & 0 & 0 & 1 & 0 & 1\\\\\n",
       "\t2 & 0 & 0 & 0 & 1 & 0 & 0 & 1 & 0 & 0 & 0 & ⋯ & 0 & 0 & 1 & 0 & 0 & 0 & 0 & 1 & 0 & 2\\\\\n",
       "\t3 & 0 & 0 & 0 & 1 & 0 & 0 & 1 & 1 & 0 & 0 & ⋯ & 0 & 0 & 1 & 0 & 0 & 0 & 0 & 1 & 0 & 3\\\\\n",
       "\t4 & 0 & 0 & 0 & 1 & 0 & 0 & 1 & 1 & 0 & 0 & ⋯ & 0 & 0 & 1 & 1 & 0 & 0 & 0 & 0 & 0 & 4\\\\\n",
       "\t5 & 0 & 0 & 0 & 1 & 0 & 0 & 1 & 1 & 0 & 0 & ⋯ & 0 & 0 & 1 & 0 & 0 & 0 & 0 & 1 & 0 & 5\\\\\n",
       "\t6 & 0 & 0 & 0 & 1 & 0 & 0 & 1 & 1 & 0 & 0 & ⋯ & 0 & 0 & 1 & 0 & 0 & 0 & 0 & 1 & 0 & 6\\\\\n",
       "\\end{tabular}\n"
      ],
      "text/markdown": [
       "\n",
       "A data.frame: 6 × 183\n",
       "\n",
       "| <!--/--> | MSZoningC..all. &lt;fct&gt; | MSZoningFV &lt;fct&gt; | MSZoningRH &lt;fct&gt; | MSZoningRL &lt;fct&gt; | MSZoningRM &lt;fct&gt; | StreetGrvl &lt;fct&gt; | StreetPave &lt;fct&gt; | LotShapeIR1 &lt;fct&gt; | LotShapeIR2 &lt;fct&gt; | LotShapeIR3 &lt;fct&gt; | ⋯ ⋯ | SaleTypeNew &lt;fct&gt; | SaleTypeOth &lt;fct&gt; | SaleTypeWD &lt;fct&gt; | SaleConditionAbnorml &lt;fct&gt; | SaleConditionAdjLand &lt;fct&gt; | SaleConditionAlloca &lt;fct&gt; | SaleConditionFamily &lt;fct&gt; | SaleConditionNormal &lt;fct&gt; | SaleConditionPartial &lt;fct&gt; | Id &lt;fct&gt; |\n",
       "|---|---|---|---|---|---|---|---|---|---|---|---|---|---|---|---|---|---|---|---|---|---|\n",
       "| 1 | 0 | 0 | 0 | 1 | 0 | 0 | 1 | 0 | 0 | 0 | ⋯ | 0 | 0 | 1 | 0 | 0 | 0 | 0 | 1 | 0 | 1 |\n",
       "| 2 | 0 | 0 | 0 | 1 | 0 | 0 | 1 | 0 | 0 | 0 | ⋯ | 0 | 0 | 1 | 0 | 0 | 0 | 0 | 1 | 0 | 2 |\n",
       "| 3 | 0 | 0 | 0 | 1 | 0 | 0 | 1 | 1 | 0 | 0 | ⋯ | 0 | 0 | 1 | 0 | 0 | 0 | 0 | 1 | 0 | 3 |\n",
       "| 4 | 0 | 0 | 0 | 1 | 0 | 0 | 1 | 1 | 0 | 0 | ⋯ | 0 | 0 | 1 | 1 | 0 | 0 | 0 | 0 | 0 | 4 |\n",
       "| 5 | 0 | 0 | 0 | 1 | 0 | 0 | 1 | 1 | 0 | 0 | ⋯ | 0 | 0 | 1 | 0 | 0 | 0 | 0 | 1 | 0 | 5 |\n",
       "| 6 | 0 | 0 | 0 | 1 | 0 | 0 | 1 | 1 | 0 | 0 | ⋯ | 0 | 0 | 1 | 0 | 0 | 0 | 0 | 1 | 0 | 6 |\n",
       "\n"
      ],
      "text/plain": [
       "  MSZoningC..all. MSZoningFV MSZoningRH MSZoningRL MSZoningRM StreetGrvl\n",
       "1 0               0          0          1          0          0         \n",
       "2 0               0          0          1          0          0         \n",
       "3 0               0          0          1          0          0         \n",
       "4 0               0          0          1          0          0         \n",
       "5 0               0          0          1          0          0         \n",
       "6 0               0          0          1          0          0         \n",
       "  StreetPave LotShapeIR1 LotShapeIR2 LotShapeIR3 ⋯ SaleTypeNew SaleTypeOth\n",
       "1 1          0           0           0           ⋯ 0           0          \n",
       "2 1          0           0           0           ⋯ 0           0          \n",
       "3 1          1           0           0           ⋯ 0           0          \n",
       "4 1          1           0           0           ⋯ 0           0          \n",
       "5 1          1           0           0           ⋯ 0           0          \n",
       "6 1          1           0           0           ⋯ 0           0          \n",
       "  SaleTypeWD SaleConditionAbnorml SaleConditionAdjLand SaleConditionAlloca\n",
       "1 1          0                    0                    0                  \n",
       "2 1          0                    0                    0                  \n",
       "3 1          0                    0                    0                  \n",
       "4 1          1                    0                    0                  \n",
       "5 1          0                    0                    0                  \n",
       "6 1          0                    0                    0                  \n",
       "  SaleConditionFamily SaleConditionNormal SaleConditionPartial Id\n",
       "1 0                   1                   0                    1 \n",
       "2 0                   1                   0                    2 \n",
       "3 0                   1                   0                    3 \n",
       "4 0                   0                   0                    4 \n",
       "5 0                   1                   0                    5 \n",
       "6 0                   1                   0                    6 "
      ]
     },
     "metadata": {},
     "output_type": "display_data"
    },
    {
     "data": {
      "text/html": [
       "<table class=\"dataframe\">\n",
       "<caption>A data.frame: 6 × 217</caption>\n",
       "<thead>\n",
       "\t<tr><th></th><th scope=col>Id</th><th scope=col>MSZoningC..all.</th><th scope=col>MSZoningFV</th><th scope=col>MSZoningRH</th><th scope=col>MSZoningRL</th><th scope=col>MSZoningRM</th><th scope=col>StreetGrvl</th><th scope=col>StreetPave</th><th scope=col>LotShapeIR1</th><th scope=col>LotShapeIR2</th><th scope=col>⋯</th><th scope=col>WoodDeckSF</th><th scope=col>OpenPorchSF</th><th scope=col>EnclosedPorch</th><th scope=col>3SsnPorch</th><th scope=col>ScreenPorch</th><th scope=col>PoolArea</th><th scope=col>MiscVal</th><th scope=col>MoSold</th><th scope=col>YrSold</th><th scope=col>SalePrice</th></tr>\n",
       "\t<tr><th></th><th scope=col>&lt;fct&gt;</th><th scope=col>&lt;fct&gt;</th><th scope=col>&lt;fct&gt;</th><th scope=col>&lt;fct&gt;</th><th scope=col>&lt;fct&gt;</th><th scope=col>&lt;fct&gt;</th><th scope=col>&lt;fct&gt;</th><th scope=col>&lt;fct&gt;</th><th scope=col>&lt;fct&gt;</th><th scope=col>&lt;fct&gt;</th><th scope=col>⋯</th><th scope=col>&lt;dbl&gt;</th><th scope=col>&lt;dbl&gt;</th><th scope=col>&lt;dbl&gt;</th><th scope=col>&lt;dbl&gt;</th><th scope=col>&lt;dbl&gt;</th><th scope=col>&lt;dbl&gt;</th><th scope=col>&lt;dbl&gt;</th><th scope=col>&lt;dbl&gt;</th><th scope=col>&lt;dbl&gt;</th><th scope=col>&lt;dbl&gt;</th></tr>\n",
       "</thead>\n",
       "<tbody>\n",
       "\t<tr><th scope=row>1</th><td>1   </td><td>0</td><td>0</td><td>0</td><td>1</td><td>0</td><td>0</td><td>1</td><td>0</td><td>0</td><td>⋯</td><td>  0</td><td>61</td><td> 0</td><td>0</td><td>0</td><td>0</td><td>  0</td><td>2</td><td>2008</td><td>208500</td></tr>\n",
       "\t<tr><th scope=row>2</th><td>10  </td><td>0</td><td>0</td><td>0</td><td>1</td><td>0</td><td>0</td><td>1</td><td>0</td><td>0</td><td>⋯</td><td>  0</td><td> 4</td><td> 0</td><td>0</td><td>0</td><td>0</td><td>  0</td><td>1</td><td>2008</td><td>118000</td></tr>\n",
       "\t<tr><th scope=row>3</th><td>100 </td><td>0</td><td>0</td><td>0</td><td>1</td><td>0</td><td>0</td><td>1</td><td>1</td><td>0</td><td>⋯</td><td>352</td><td> 0</td><td> 0</td><td>0</td><td>0</td><td>0</td><td>400</td><td>1</td><td>2010</td><td>128950</td></tr>\n",
       "\t<tr><th scope=row>4</th><td>1000</td><td>0</td><td>0</td><td>0</td><td>1</td><td>0</td><td>0</td><td>1</td><td>0</td><td>0</td><td>⋯</td><td>105</td><td>61</td><td> 0</td><td>0</td><td>0</td><td>0</td><td>  0</td><td>2</td><td>2010</td><td>206000</td></tr>\n",
       "\t<tr><th scope=row>5</th><td>1001</td><td>0</td><td>0</td><td>0</td><td>1</td><td>0</td><td>0</td><td>1</td><td>0</td><td>0</td><td>⋯</td><td>  0</td><td> 0</td><td> 0</td><td>0</td><td>0</td><td>0</td><td>  0</td><td>7</td><td>2009</td><td> 82000</td></tr>\n",
       "\t<tr><th scope=row>6</th><td>1002</td><td>0</td><td>0</td><td>0</td><td>1</td><td>0</td><td>0</td><td>1</td><td>0</td><td>0</td><td>⋯</td><td>  0</td><td>20</td><td>94</td><td>0</td><td>0</td><td>0</td><td>  0</td><td>1</td><td>2007</td><td> 86000</td></tr>\n",
       "</tbody>\n",
       "</table>\n"
      ],
      "text/latex": [
       "A data.frame: 6 × 217\n",
       "\\begin{tabular}{r|lllllllllllllllllllll}\n",
       "  & Id & MSZoningC..all. & MSZoningFV & MSZoningRH & MSZoningRL & MSZoningRM & StreetGrvl & StreetPave & LotShapeIR1 & LotShapeIR2 & ⋯ & WoodDeckSF & OpenPorchSF & EnclosedPorch & 3SsnPorch & ScreenPorch & PoolArea & MiscVal & MoSold & YrSold & SalePrice\\\\\n",
       "  & <fct> & <fct> & <fct> & <fct> & <fct> & <fct> & <fct> & <fct> & <fct> & <fct> & ⋯ & <dbl> & <dbl> & <dbl> & <dbl> & <dbl> & <dbl> & <dbl> & <dbl> & <dbl> & <dbl>\\\\\n",
       "\\hline\n",
       "\t1 & 1    & 0 & 0 & 0 & 1 & 0 & 0 & 1 & 0 & 0 & ⋯ &   0 & 61 &  0 & 0 & 0 & 0 &   0 & 2 & 2008 & 208500\\\\\n",
       "\t2 & 10   & 0 & 0 & 0 & 1 & 0 & 0 & 1 & 0 & 0 & ⋯ &   0 &  4 &  0 & 0 & 0 & 0 &   0 & 1 & 2008 & 118000\\\\\n",
       "\t3 & 100  & 0 & 0 & 0 & 1 & 0 & 0 & 1 & 1 & 0 & ⋯ & 352 &  0 &  0 & 0 & 0 & 0 & 400 & 1 & 2010 & 128950\\\\\n",
       "\t4 & 1000 & 0 & 0 & 0 & 1 & 0 & 0 & 1 & 0 & 0 & ⋯ & 105 & 61 &  0 & 0 & 0 & 0 &   0 & 2 & 2010 & 206000\\\\\n",
       "\t5 & 1001 & 0 & 0 & 0 & 1 & 0 & 0 & 1 & 0 & 0 & ⋯ &   0 &  0 &  0 & 0 & 0 & 0 &   0 & 7 & 2009 &  82000\\\\\n",
       "\t6 & 1002 & 0 & 0 & 0 & 1 & 0 & 0 & 1 & 0 & 0 & ⋯ &   0 & 20 & 94 & 0 & 0 & 0 &   0 & 1 & 2007 &  86000\\\\\n",
       "\\end{tabular}\n"
      ],
      "text/markdown": [
       "\n",
       "A data.frame: 6 × 217\n",
       "\n",
       "| <!--/--> | Id &lt;fct&gt; | MSZoningC..all. &lt;fct&gt; | MSZoningFV &lt;fct&gt; | MSZoningRH &lt;fct&gt; | MSZoningRL &lt;fct&gt; | MSZoningRM &lt;fct&gt; | StreetGrvl &lt;fct&gt; | StreetPave &lt;fct&gt; | LotShapeIR1 &lt;fct&gt; | LotShapeIR2 &lt;fct&gt; | ⋯ ⋯ | WoodDeckSF &lt;dbl&gt; | OpenPorchSF &lt;dbl&gt; | EnclosedPorch &lt;dbl&gt; | 3SsnPorch &lt;dbl&gt; | ScreenPorch &lt;dbl&gt; | PoolArea &lt;dbl&gt; | MiscVal &lt;dbl&gt; | MoSold &lt;dbl&gt; | YrSold &lt;dbl&gt; | SalePrice &lt;dbl&gt; |\n",
       "|---|---|---|---|---|---|---|---|---|---|---|---|---|---|---|---|---|---|---|---|---|---|\n",
       "| 1 | 1    | 0 | 0 | 0 | 1 | 0 | 0 | 1 | 0 | 0 | ⋯ |   0 | 61 |  0 | 0 | 0 | 0 |   0 | 2 | 2008 | 208500 |\n",
       "| 2 | 10   | 0 | 0 | 0 | 1 | 0 | 0 | 1 | 0 | 0 | ⋯ |   0 |  4 |  0 | 0 | 0 | 0 |   0 | 1 | 2008 | 118000 |\n",
       "| 3 | 100  | 0 | 0 | 0 | 1 | 0 | 0 | 1 | 1 | 0 | ⋯ | 352 |  0 |  0 | 0 | 0 | 0 | 400 | 1 | 2010 | 128950 |\n",
       "| 4 | 1000 | 0 | 0 | 0 | 1 | 0 | 0 | 1 | 0 | 0 | ⋯ | 105 | 61 |  0 | 0 | 0 | 0 |   0 | 2 | 2010 | 206000 |\n",
       "| 5 | 1001 | 0 | 0 | 0 | 1 | 0 | 0 | 1 | 0 | 0 | ⋯ |   0 |  0 |  0 | 0 | 0 | 0 |   0 | 7 | 2009 |  82000 |\n",
       "| 6 | 1002 | 0 | 0 | 0 | 1 | 0 | 0 | 1 | 0 | 0 | ⋯ |   0 | 20 | 94 | 0 | 0 | 0 |   0 | 1 | 2007 |  86000 |\n",
       "\n"
      ],
      "text/plain": [
       "  Id   MSZoningC..all. MSZoningFV MSZoningRH MSZoningRL MSZoningRM StreetGrvl\n",
       "1 1    0               0          0          1          0          0         \n",
       "2 10   0               0          0          1          0          0         \n",
       "3 100  0               0          0          1          0          0         \n",
       "4 1000 0               0          0          1          0          0         \n",
       "5 1001 0               0          0          1          0          0         \n",
       "6 1002 0               0          0          1          0          0         \n",
       "  StreetPave LotShapeIR1 LotShapeIR2 ⋯ WoodDeckSF OpenPorchSF EnclosedPorch\n",
       "1 1          0           0           ⋯   0        61           0           \n",
       "2 1          0           0           ⋯   0         4           0           \n",
       "3 1          1           0           ⋯ 352         0           0           \n",
       "4 1          0           0           ⋯ 105        61           0           \n",
       "5 1          0           0           ⋯   0         0           0           \n",
       "6 1          0           0           ⋯   0        20          94           \n",
       "  3SsnPorch ScreenPorch PoolArea MiscVal MoSold YrSold SalePrice\n",
       "1 0         0           0          0     2      2008   208500   \n",
       "2 0         0           0          0     1      2008   118000   \n",
       "3 0         0           0        400     1      2010   128950   \n",
       "4 0         0           0          0     2      2010   206000   \n",
       "5 0         0           0          0     7      2009    82000   \n",
       "6 0         0           0          0     1      2007    86000   "
      ]
     },
     "metadata": {},
     "output_type": "display_data"
    }
   ],
   "source": [
    "# read original data again\n",
    "\n",
    "\n",
    "housing_data_noNA <- housing_data0 %>%\n",
    "    select_if(~ !any(is.na(.)))\n",
    "\n",
    "# Get the dimension of the new dataframe and check for NA values again\n",
    "dim(housing_data_noNA)\n",
    "total_missing_values <- sum(is.na(housing_data_noNA))\n",
    "paste(\"There are\", total_missing_values ,\"missing values in the dataset\")\n",
    "\n",
    "\n",
    "#create dummy variable for categorical\n",
    "housing_data_char <- housing_data_noNA[sapply(housing_data_noNA,is.character)]\n",
    "housing_data_num <- housing_data_noNA[sapply(housing_data_noNA,is.numeric)]\n",
    "dummy <- dummyVars(~ ., data=housing_data_char)\n",
    "housing_char_onehot <- data.frame(predict(dummy, newdata = housing_data_char)) \n",
    "housing_char_onehot<- cbind(housing_char_onehot,housing_data_num$Id)\n",
    "col_names <- names(housing_char_onehot)\n",
    "housing_char_onehot[,col_names] <- lapply(housing_char_onehot[,col_names] , factor)\n",
    "colnames(housing_char_onehot)[which(names(housing_char_onehot) == \"housing_data_num$Id\")] <- \"Id\"\n",
    "head(housing_char_onehot)\n",
    "housing_data_noNA = merge(x=housing_char_onehot,y=housing_data_num,by=\"Id\")\n",
    "\n",
    "head(housing_data_noNA)"
   ]
  },
  {
   "cell_type": "code",
   "execution_count": 11,
   "id": "ab4cdbd9",
   "metadata": {
    "vscode": {
     "languageId": "r"
    }
   },
   "outputs": [
    {
     "data": {
      "text/html": [
       "<table class=\"dataframe\">\n",
       "<caption>A data.frame: 6 × 217</caption>\n",
       "<thead>\n",
       "\t<tr><th></th><th scope=col>Id</th><th scope=col>MSZoningC..all.</th><th scope=col>MSZoningFV</th><th scope=col>MSZoningRH</th><th scope=col>MSZoningRL</th><th scope=col>MSZoningRM</th><th scope=col>StreetGrvl</th><th scope=col>StreetPave</th><th scope=col>LotShapeIR1</th><th scope=col>LotShapeIR2</th><th scope=col>⋯</th><th scope=col>WoodDeckSF</th><th scope=col>OpenPorchSF</th><th scope=col>EnclosedPorch</th><th scope=col>3SsnPorch</th><th scope=col>ScreenPorch</th><th scope=col>PoolArea</th><th scope=col>MiscVal</th><th scope=col>MoSold</th><th scope=col>YrSold</th><th scope=col>SalePrice</th></tr>\n",
       "\t<tr><th></th><th scope=col>&lt;int&gt;</th><th scope=col>&lt;fct&gt;</th><th scope=col>&lt;fct&gt;</th><th scope=col>&lt;fct&gt;</th><th scope=col>&lt;fct&gt;</th><th scope=col>&lt;fct&gt;</th><th scope=col>&lt;fct&gt;</th><th scope=col>&lt;fct&gt;</th><th scope=col>&lt;fct&gt;</th><th scope=col>&lt;fct&gt;</th><th scope=col>⋯</th><th scope=col>&lt;dbl&gt;</th><th scope=col>&lt;dbl&gt;</th><th scope=col>&lt;dbl&gt;</th><th scope=col>&lt;dbl&gt;</th><th scope=col>&lt;dbl&gt;</th><th scope=col>&lt;dbl&gt;</th><th scope=col>&lt;dbl&gt;</th><th scope=col>&lt;dbl&gt;</th><th scope=col>&lt;dbl&gt;</th><th scope=col>&lt;dbl&gt;</th></tr>\n",
       "</thead>\n",
       "<tbody>\n",
       "\t<tr><th scope=row>1</th><td>1308</td><td>0</td><td>0</td><td>0</td><td>1</td><td>0</td><td>0</td><td>1</td><td>0</td><td>0</td><td>⋯</td><td>  0</td><td>240</td><td>  0</td><td>0</td><td>0</td><td>0</td><td>0</td><td>6</td><td>2007</td><td>189950</td></tr>\n",
       "\t<tr><th scope=row>2</th><td>1018</td><td>0</td><td>0</td><td>0</td><td>1</td><td>0</td><td>0</td><td>1</td><td>0</td><td>0</td><td>⋯</td><td>196</td><td>  0</td><td>  0</td><td>0</td><td>0</td><td>0</td><td>0</td><td>1</td><td>2008</td><td>124900</td></tr>\n",
       "\t<tr><th scope=row>3</th><td>1125</td><td>0</td><td>0</td><td>0</td><td>0</td><td>1</td><td>0</td><td>1</td><td>0</td><td>0</td><td>⋯</td><td>  0</td><td>  0</td><td>129</td><td>0</td><td>0</td><td>0</td><td>0</td><td>6</td><td>2006</td><td> 89000</td></tr>\n",
       "\t<tr><th scope=row>4</th><td>1004</td><td>0</td><td>0</td><td>0</td><td>1</td><td>0</td><td>0</td><td>1</td><td>1</td><td>0</td><td>⋯</td><td>  0</td><td>  0</td><td>  0</td><td>0</td><td>0</td><td>0</td><td>0</td><td>7</td><td>2009</td><td>137000</td></tr>\n",
       "\t<tr><th scope=row>5</th><td> 623</td><td>0</td><td>0</td><td>0</td><td>1</td><td>0</td><td>0</td><td>1</td><td>0</td><td>0</td><td>⋯</td><td>  0</td><td> 28</td><td>  0</td><td>0</td><td>0</td><td>0</td><td>0</td><td>4</td><td>2009</td><td>120000</td></tr>\n",
       "\t<tr><th scope=row>6</th><td> 905</td><td>0</td><td>0</td><td>0</td><td>1</td><td>0</td><td>0</td><td>1</td><td>0</td><td>0</td><td>⋯</td><td> 64</td><td>  0</td><td>  0</td><td>0</td><td>0</td><td>0</td><td>0</td><td>6</td><td>2009</td><td>130000</td></tr>\n",
       "</tbody>\n",
       "</table>\n"
      ],
      "text/latex": [
       "A data.frame: 6 × 217\n",
       "\\begin{tabular}{r|lllllllllllllllllllll}\n",
       "  & Id & MSZoningC..all. & MSZoningFV & MSZoningRH & MSZoningRL & MSZoningRM & StreetGrvl & StreetPave & LotShapeIR1 & LotShapeIR2 & ⋯ & WoodDeckSF & OpenPorchSF & EnclosedPorch & 3SsnPorch & ScreenPorch & PoolArea & MiscVal & MoSold & YrSold & SalePrice\\\\\n",
       "  & <int> & <fct> & <fct> & <fct> & <fct> & <fct> & <fct> & <fct> & <fct> & <fct> & ⋯ & <dbl> & <dbl> & <dbl> & <dbl> & <dbl> & <dbl> & <dbl> & <dbl> & <dbl> & <dbl>\\\\\n",
       "\\hline\n",
       "\t1 & 1308 & 0 & 0 & 0 & 1 & 0 & 0 & 1 & 0 & 0 & ⋯ &   0 & 240 &   0 & 0 & 0 & 0 & 0 & 6 & 2007 & 189950\\\\\n",
       "\t2 & 1018 & 0 & 0 & 0 & 1 & 0 & 0 & 1 & 0 & 0 & ⋯ & 196 &   0 &   0 & 0 & 0 & 0 & 0 & 1 & 2008 & 124900\\\\\n",
       "\t3 & 1125 & 0 & 0 & 0 & 0 & 1 & 0 & 1 & 0 & 0 & ⋯ &   0 &   0 & 129 & 0 & 0 & 0 & 0 & 6 & 2006 &  89000\\\\\n",
       "\t4 & 1004 & 0 & 0 & 0 & 1 & 0 & 0 & 1 & 1 & 0 & ⋯ &   0 &   0 &   0 & 0 & 0 & 0 & 0 & 7 & 2009 & 137000\\\\\n",
       "\t5 &  623 & 0 & 0 & 0 & 1 & 0 & 0 & 1 & 0 & 0 & ⋯ &   0 &  28 &   0 & 0 & 0 & 0 & 0 & 4 & 2009 & 120000\\\\\n",
       "\t6 &  905 & 0 & 0 & 0 & 1 & 0 & 0 & 1 & 0 & 0 & ⋯ &  64 &   0 &   0 & 0 & 0 & 0 & 0 & 6 & 2009 & 130000\\\\\n",
       "\\end{tabular}\n"
      ],
      "text/markdown": [
       "\n",
       "A data.frame: 6 × 217\n",
       "\n",
       "| <!--/--> | Id &lt;int&gt; | MSZoningC..all. &lt;fct&gt; | MSZoningFV &lt;fct&gt; | MSZoningRH &lt;fct&gt; | MSZoningRL &lt;fct&gt; | MSZoningRM &lt;fct&gt; | StreetGrvl &lt;fct&gt; | StreetPave &lt;fct&gt; | LotShapeIR1 &lt;fct&gt; | LotShapeIR2 &lt;fct&gt; | ⋯ ⋯ | WoodDeckSF &lt;dbl&gt; | OpenPorchSF &lt;dbl&gt; | EnclosedPorch &lt;dbl&gt; | 3SsnPorch &lt;dbl&gt; | ScreenPorch &lt;dbl&gt; | PoolArea &lt;dbl&gt; | MiscVal &lt;dbl&gt; | MoSold &lt;dbl&gt; | YrSold &lt;dbl&gt; | SalePrice &lt;dbl&gt; |\n",
       "|---|---|---|---|---|---|---|---|---|---|---|---|---|---|---|---|---|---|---|---|---|---|\n",
       "| 1 | 1308 | 0 | 0 | 0 | 1 | 0 | 0 | 1 | 0 | 0 | ⋯ |   0 | 240 |   0 | 0 | 0 | 0 | 0 | 6 | 2007 | 189950 |\n",
       "| 2 | 1018 | 0 | 0 | 0 | 1 | 0 | 0 | 1 | 0 | 0 | ⋯ | 196 |   0 |   0 | 0 | 0 | 0 | 0 | 1 | 2008 | 124900 |\n",
       "| 3 | 1125 | 0 | 0 | 0 | 0 | 1 | 0 | 1 | 0 | 0 | ⋯ |   0 |   0 | 129 | 0 | 0 | 0 | 0 | 6 | 2006 |  89000 |\n",
       "| 4 | 1004 | 0 | 0 | 0 | 1 | 0 | 0 | 1 | 1 | 0 | ⋯ |   0 |   0 |   0 | 0 | 0 | 0 | 0 | 7 | 2009 | 137000 |\n",
       "| 5 |  623 | 0 | 0 | 0 | 1 | 0 | 0 | 1 | 0 | 0 | ⋯ |   0 |  28 |   0 | 0 | 0 | 0 | 0 | 4 | 2009 | 120000 |\n",
       "| 6 |  905 | 0 | 0 | 0 | 1 | 0 | 0 | 1 | 0 | 0 | ⋯ |  64 |   0 |   0 | 0 | 0 | 0 | 0 | 6 | 2009 | 130000 |\n",
       "\n"
      ],
      "text/plain": [
       "  Id   MSZoningC..all. MSZoningFV MSZoningRH MSZoningRL MSZoningRM StreetGrvl\n",
       "1 1308 0               0          0          1          0          0         \n",
       "2 1018 0               0          0          1          0          0         \n",
       "3 1125 0               0          0          0          1          0         \n",
       "4 1004 0               0          0          1          0          0         \n",
       "5  623 0               0          0          1          0          0         \n",
       "6  905 0               0          0          1          0          0         \n",
       "  StreetPave LotShapeIR1 LotShapeIR2 ⋯ WoodDeckSF OpenPorchSF EnclosedPorch\n",
       "1 1          0           0           ⋯   0        240           0          \n",
       "2 1          0           0           ⋯ 196          0           0          \n",
       "3 1          0           0           ⋯   0          0         129          \n",
       "4 1          1           0           ⋯   0          0           0          \n",
       "5 1          0           0           ⋯   0         28           0          \n",
       "6 1          0           0           ⋯  64          0           0          \n",
       "  3SsnPorch ScreenPorch PoolArea MiscVal MoSold YrSold SalePrice\n",
       "1 0         0           0        0       6      2007   189950   \n",
       "2 0         0           0        0       1      2008   124900   \n",
       "3 0         0           0        0       6      2006    89000   \n",
       "4 0         0           0        0       7      2009   137000   \n",
       "5 0         0           0        0       4      2009   120000   \n",
       "6 0         0           0        0       6      2009   130000   "
      ]
     },
     "metadata": {},
     "output_type": "display_data"
    },
    {
     "data": {
      "text/html": [
       "<style>\n",
       ".list-inline {list-style: none; margin:0; padding: 0}\n",
       ".list-inline>li {display: inline-block}\n",
       ".list-inline>li:not(:last-child)::after {content: \"\\00b7\"; padding: 0 .5ex}\n",
       "</style>\n",
       "<ol class=list-inline><li>1021</li><li>217</li></ol>\n"
      ],
      "text/latex": [
       "\\begin{enumerate*}\n",
       "\\item 1021\n",
       "\\item 217\n",
       "\\end{enumerate*}\n"
      ],
      "text/markdown": [
       "1. 1021\n",
       "2. 217\n",
       "\n",
       "\n"
      ],
      "text/plain": [
       "[1] 1021  217"
      ]
     },
     "metadata": {},
     "output_type": "display_data"
    },
    {
     "data": {
      "text/html": [
       "<table class=\"dataframe\">\n",
       "<caption>A data.frame: 6 × 217</caption>\n",
       "<thead>\n",
       "\t<tr><th></th><th scope=col>Id</th><th scope=col>MSZoningC..all.</th><th scope=col>MSZoningFV</th><th scope=col>MSZoningRH</th><th scope=col>MSZoningRL</th><th scope=col>MSZoningRM</th><th scope=col>StreetGrvl</th><th scope=col>StreetPave</th><th scope=col>LotShapeIR1</th><th scope=col>LotShapeIR2</th><th scope=col>⋯</th><th scope=col>WoodDeckSF</th><th scope=col>OpenPorchSF</th><th scope=col>EnclosedPorch</th><th scope=col>3SsnPorch</th><th scope=col>ScreenPorch</th><th scope=col>PoolArea</th><th scope=col>MiscVal</th><th scope=col>MoSold</th><th scope=col>YrSold</th><th scope=col>SalePrice</th></tr>\n",
       "\t<tr><th></th><th scope=col>&lt;int&gt;</th><th scope=col>&lt;fct&gt;</th><th scope=col>&lt;fct&gt;</th><th scope=col>&lt;fct&gt;</th><th scope=col>&lt;fct&gt;</th><th scope=col>&lt;fct&gt;</th><th scope=col>&lt;fct&gt;</th><th scope=col>&lt;fct&gt;</th><th scope=col>&lt;fct&gt;</th><th scope=col>&lt;fct&gt;</th><th scope=col>⋯</th><th scope=col>&lt;dbl&gt;</th><th scope=col>&lt;dbl&gt;</th><th scope=col>&lt;dbl&gt;</th><th scope=col>&lt;dbl&gt;</th><th scope=col>&lt;dbl&gt;</th><th scope=col>&lt;dbl&gt;</th><th scope=col>&lt;dbl&gt;</th><th scope=col>&lt;dbl&gt;</th><th scope=col>&lt;dbl&gt;</th><th scope=col>&lt;dbl&gt;</th></tr>\n",
       "</thead>\n",
       "<tbody>\n",
       "\t<tr><th scope=row>1</th><td> 1</td><td>0</td><td>0</td><td>0</td><td>1</td><td>0</td><td>0</td><td>1</td><td>0</td><td>0</td><td>⋯</td><td>  0</td><td> 61</td><td>0</td><td>0</td><td>0</td><td>0</td><td>0</td><td>2</td><td>2008</td><td>208500</td></tr>\n",
       "\t<tr><th scope=row>2</th><td> 2</td><td>0</td><td>0</td><td>0</td><td>1</td><td>0</td><td>0</td><td>1</td><td>0</td><td>0</td><td>⋯</td><td>  0</td><td>  4</td><td>0</td><td>0</td><td>0</td><td>0</td><td>0</td><td>1</td><td>2008</td><td>118000</td></tr>\n",
       "\t<tr><th scope=row>3</th><td> 5</td><td>0</td><td>0</td><td>0</td><td>1</td><td>0</td><td>0</td><td>1</td><td>0</td><td>0</td><td>⋯</td><td>  0</td><td>  0</td><td>0</td><td>0</td><td>0</td><td>0</td><td>0</td><td>7</td><td>2009</td><td> 82000</td></tr>\n",
       "\t<tr><th scope=row>4</th><td> 7</td><td>0</td><td>0</td><td>0</td><td>1</td><td>0</td><td>0</td><td>1</td><td>1</td><td>0</td><td>⋯</td><td>144</td><td>104</td><td>0</td><td>0</td><td>0</td><td>0</td><td>0</td><td>7</td><td>2008</td><td>232000</td></tr>\n",
       "\t<tr><th scope=row>5</th><td> 8</td><td>0</td><td>0</td><td>0</td><td>1</td><td>0</td><td>0</td><td>1</td><td>1</td><td>0</td><td>⋯</td><td>  0</td><td>  0</td><td>0</td><td>0</td><td>0</td><td>0</td><td>0</td><td>6</td><td>2007</td><td>136905</td></tr>\n",
       "\t<tr><th scope=row>6</th><td>12</td><td>0</td><td>0</td><td>0</td><td>0</td><td>1</td><td>0</td><td>1</td><td>0</td><td>0</td><td>⋯</td><td>238</td><td>  0</td><td>0</td><td>0</td><td>0</td><td>0</td><td>0</td><td>8</td><td>2009</td><td> 88000</td></tr>\n",
       "</tbody>\n",
       "</table>\n"
      ],
      "text/latex": [
       "A data.frame: 6 × 217\n",
       "\\begin{tabular}{r|lllllllllllllllllllll}\n",
       "  & Id & MSZoningC..all. & MSZoningFV & MSZoningRH & MSZoningRL & MSZoningRM & StreetGrvl & StreetPave & LotShapeIR1 & LotShapeIR2 & ⋯ & WoodDeckSF & OpenPorchSF & EnclosedPorch & 3SsnPorch & ScreenPorch & PoolArea & MiscVal & MoSold & YrSold & SalePrice\\\\\n",
       "  & <int> & <fct> & <fct> & <fct> & <fct> & <fct> & <fct> & <fct> & <fct> & <fct> & ⋯ & <dbl> & <dbl> & <dbl> & <dbl> & <dbl> & <dbl> & <dbl> & <dbl> & <dbl> & <dbl>\\\\\n",
       "\\hline\n",
       "\t1 &  1 & 0 & 0 & 0 & 1 & 0 & 0 & 1 & 0 & 0 & ⋯ &   0 &  61 & 0 & 0 & 0 & 0 & 0 & 2 & 2008 & 208500\\\\\n",
       "\t2 &  2 & 0 & 0 & 0 & 1 & 0 & 0 & 1 & 0 & 0 & ⋯ &   0 &   4 & 0 & 0 & 0 & 0 & 0 & 1 & 2008 & 118000\\\\\n",
       "\t3 &  5 & 0 & 0 & 0 & 1 & 0 & 0 & 1 & 0 & 0 & ⋯ &   0 &   0 & 0 & 0 & 0 & 0 & 0 & 7 & 2009 &  82000\\\\\n",
       "\t4 &  7 & 0 & 0 & 0 & 1 & 0 & 0 & 1 & 1 & 0 & ⋯ & 144 & 104 & 0 & 0 & 0 & 0 & 0 & 7 & 2008 & 232000\\\\\n",
       "\t5 &  8 & 0 & 0 & 0 & 1 & 0 & 0 & 1 & 1 & 0 & ⋯ &   0 &   0 & 0 & 0 & 0 & 0 & 0 & 6 & 2007 & 136905\\\\\n",
       "\t6 & 12 & 0 & 0 & 0 & 0 & 1 & 0 & 1 & 0 & 0 & ⋯ & 238 &   0 & 0 & 0 & 0 & 0 & 0 & 8 & 2009 &  88000\\\\\n",
       "\\end{tabular}\n"
      ],
      "text/markdown": [
       "\n",
       "A data.frame: 6 × 217\n",
       "\n",
       "| <!--/--> | Id &lt;int&gt; | MSZoningC..all. &lt;fct&gt; | MSZoningFV &lt;fct&gt; | MSZoningRH &lt;fct&gt; | MSZoningRL &lt;fct&gt; | MSZoningRM &lt;fct&gt; | StreetGrvl &lt;fct&gt; | StreetPave &lt;fct&gt; | LotShapeIR1 &lt;fct&gt; | LotShapeIR2 &lt;fct&gt; | ⋯ ⋯ | WoodDeckSF &lt;dbl&gt; | OpenPorchSF &lt;dbl&gt; | EnclosedPorch &lt;dbl&gt; | 3SsnPorch &lt;dbl&gt; | ScreenPorch &lt;dbl&gt; | PoolArea &lt;dbl&gt; | MiscVal &lt;dbl&gt; | MoSold &lt;dbl&gt; | YrSold &lt;dbl&gt; | SalePrice &lt;dbl&gt; |\n",
       "|---|---|---|---|---|---|---|---|---|---|---|---|---|---|---|---|---|---|---|---|---|---|\n",
       "| 1 |  1 | 0 | 0 | 0 | 1 | 0 | 0 | 1 | 0 | 0 | ⋯ |   0 |  61 | 0 | 0 | 0 | 0 | 0 | 2 | 2008 | 208500 |\n",
       "| 2 |  2 | 0 | 0 | 0 | 1 | 0 | 0 | 1 | 0 | 0 | ⋯ |   0 |   4 | 0 | 0 | 0 | 0 | 0 | 1 | 2008 | 118000 |\n",
       "| 3 |  5 | 0 | 0 | 0 | 1 | 0 | 0 | 1 | 0 | 0 | ⋯ |   0 |   0 | 0 | 0 | 0 | 0 | 0 | 7 | 2009 |  82000 |\n",
       "| 4 |  7 | 0 | 0 | 0 | 1 | 0 | 0 | 1 | 1 | 0 | ⋯ | 144 | 104 | 0 | 0 | 0 | 0 | 0 | 7 | 2008 | 232000 |\n",
       "| 5 |  8 | 0 | 0 | 0 | 1 | 0 | 0 | 1 | 1 | 0 | ⋯ |   0 |   0 | 0 | 0 | 0 | 0 | 0 | 6 | 2007 | 136905 |\n",
       "| 6 | 12 | 0 | 0 | 0 | 0 | 1 | 0 | 1 | 0 | 0 | ⋯ | 238 |   0 | 0 | 0 | 0 | 0 | 0 | 8 | 2009 |  88000 |\n",
       "\n"
      ],
      "text/plain": [
       "  Id MSZoningC..all. MSZoningFV MSZoningRH MSZoningRL MSZoningRM StreetGrvl\n",
       "1  1 0               0          0          1          0          0         \n",
       "2  2 0               0          0          1          0          0         \n",
       "3  5 0               0          0          1          0          0         \n",
       "4  7 0               0          0          1          0          0         \n",
       "5  8 0               0          0          1          0          0         \n",
       "6 12 0               0          0          0          1          0         \n",
       "  StreetPave LotShapeIR1 LotShapeIR2 ⋯ WoodDeckSF OpenPorchSF EnclosedPorch\n",
       "1 1          0           0           ⋯   0         61         0            \n",
       "2 1          0           0           ⋯   0          4         0            \n",
       "3 1          0           0           ⋯   0          0         0            \n",
       "4 1          1           0           ⋯ 144        104         0            \n",
       "5 1          1           0           ⋯   0          0         0            \n",
       "6 1          0           0           ⋯ 238          0         0            \n",
       "  3SsnPorch ScreenPorch PoolArea MiscVal MoSold YrSold SalePrice\n",
       "1 0         0           0        0       2      2008   208500   \n",
       "2 0         0           0        0       1      2008   118000   \n",
       "3 0         0           0        0       7      2009    82000   \n",
       "4 0         0           0        0       7      2008   232000   \n",
       "5 0         0           0        0       6      2007   136905   \n",
       "6 0         0           0        0       8      2009    88000   "
      ]
     },
     "metadata": {},
     "output_type": "display_data"
    },
    {
     "data": {
      "text/html": [
       "<style>\n",
       ".list-inline {list-style: none; margin:0; padding: 0}\n",
       ".list-inline>li {display: inline-block}\n",
       ".list-inline>li:not(:last-child)::after {content: \"\\00b7\"; padding: 0 .5ex}\n",
       "</style>\n",
       "<ol class=list-inline><li>439</li><li>217</li></ol>\n"
      ],
      "text/latex": [
       "\\begin{enumerate*}\n",
       "\\item 439\n",
       "\\item 217\n",
       "\\end{enumerate*}\n"
      ],
      "text/markdown": [
       "1. 439\n",
       "2. 217\n",
       "\n",
       "\n"
      ],
      "text/plain": [
       "[1] 439 217"
      ]
     },
     "metadata": {},
     "output_type": "display_data"
    }
   ],
   "source": [
    "# Creating the train and test split\n",
    "set.seed(1234)\n",
    "housing_data_noNA$Id <- 1:nrow(housing_data_noNA)\n",
    "housing_train <- sample_n(housing_data_noNA, size = nrow(housing_data_noNA) * 0.70, replace = FALSE)\n",
    "housing_test <- anti_join(housing_data_noNA, housing_train, by = \"Id\")\n",
    "\n",
    "# Viewing the train and test datasets and gitting the size of the dataframes\n",
    "head(housing_train)\n",
    "dim(housing_train)\n",
    "head(housing_test)\n",
    "dim(housing_test)"
   ]
  },
  {
   "cell_type": "markdown",
   "id": "9a5a11d7-748d-4e45-9469-0a9ecdd359ab",
   "metadata": {},
   "source": [
    "Next, we will use our training data to run a CV simulation and determine the best value to assign our penalization parameter $\\lambda$ that will minimize the MSE of the LASSO regression model."
   ]
  },
  {
   "cell_type": "code",
   "execution_count": 12,
   "id": "4989ac46",
   "metadata": {
    "vscode": {
     "languageId": "r"
    }
   },
   "outputs": [
    {
     "data": {
      "text/plain": [
       "\n",
       "Call:  cv.glmnet(x = Housing_X_train, y = Housing_Y_train, lambda = exp(seq(5,      12, 0.1)), alpha = 1) \n",
       "\n",
       "Measure: Mean-Squared Error \n",
       "\n",
       "    Lambda Index   Measure        SE Nonzero\n",
       "min   1339    49 1.437e+09 493899555      57\n",
       "1se   9897    29 1.910e+09 243355248      14"
      ]
     },
     "metadata": {},
     "output_type": "display_data"
    },
    {
     "data": {
      "image/png": "[encoded data removed]"
     },
     "metadata": {
      "image/png": {
       "height": 420,
       "width": 420
      }
     },
     "output_type": "display_data"
    }
   ],
   "source": [
    "options(jupyter.plot_mime.types = \"image/png\")\n",
    "\n",
    "Housing_X_train <- housing_train %>% select(-\"SalePrice\", \"Id\")  %>% data.matrix()\n",
    "Housing_Y_train <- housing_train %>% select(\"SalePrice\")  %>% data.matrix()\n",
    "\n",
    "\n",
    "Housing_X_test <- housing_test %>% select(-\"SalePrice\", \"Id\")  %>% data.matrix()\n",
    "Housing_Y_test <- housing_test %>% select(\"SalePrice\")  %>% data.matrix()\n",
    "\n",
    "\n",
    "Housing_cv_lambda_LASSO <- cv.glmnet(\n",
    "  x = Housing_X_train, y = Housing_Y_train,\n",
    "  alpha = 1,\n",
    "  lambda = exp(seq(5, 12, 0.1))\n",
    ")\n",
    "\n",
    "Housing_cv_lambda_LASSO\n",
    "\n",
    "plot(Housing_cv_lambda_LASSO, main = \"Lambda selection by CV with LASSO\\n\\n\")\n"
   ]
  },
  {
   "cell_type": "markdown",
   "id": "6e4c780d-bea3-4c04-8b4c-4764b2caabd3",
   "metadata": {},
   "source": [
    "*Table 2.1 Statisitics of lambda.min and lamnda.1se*\n",
    "\n",
    "*Figure 2.1 Assessing MSE for cross-validations with different values of lambda*"
   ]
  },
  {
   "cell_type": "markdown",
   "id": "a2a787b2-e6f6-49fb-87ec-433b2f1e8320",
   "metadata": {},
   "source": [
    "As we can see above, our minimum value of our penalization parameter $\\lambda$ is just above exp(7). We get the exact value below:"
   ]
  },
  {
   "cell_type": "code",
   "execution_count": 13,
   "id": "1667eebe-325d-4f3d-a284-a00535800dda",
   "metadata": {
    "vscode": {
     "languageId": "r"
    }
   },
   "outputs": [
    {
     "data": {
      "text/html": [
       "1339.4308"
      ],
      "text/latex": [
       "1339.4308"
      ],
      "text/markdown": [
       "1339.4308"
      ],
      "text/plain": [
       "[1] 1339.431"
      ]
     },
     "metadata": {},
     "output_type": "display_data"
    }
   ],
   "source": [
    "Housing_lambda_min_MSE_LASSO <- round(Housing_cv_lambda_LASSO$lambda.min, 4)\n",
    "Housing_lambda_min_MSE_LASSO"
   ]
  },
  {
   "cell_type": "markdown",
   "id": "735d2eb6-ef5f-4b57-a7f4-5846f4773de1",
   "metadata": {},
   "source": [
    "We now have all of the necessary values and formatted data to be fed into our optimized LASSO. We fit this model below and report the coefficient estimates on all available variables"
   ]
  },
  {
   "cell_type": "code",
   "execution_count": 14,
   "id": "5a78af7d",
   "metadata": {
    "vscode": {
     "languageId": "r"
    }
   },
   "outputs": [
    {
     "data": {
      "text/plain": [
       "216 x 1 sparse Matrix of class \"dgCMatrix\"\n",
       "                                s0\n",
       "Id                    .           \n",
       "MSZoningC..all.      -4.220530e+03\n",
       "MSZoningFV            .           \n",
       "MSZoningRH            .           \n",
       "MSZoningRL            .           \n",
       "MSZoningRM           -1.222474e+03\n",
       "StreetGrvl            .           \n",
       "StreetPave            .           \n",
       "LotShapeIR1           .           \n",
       "LotShapeIR2           .           \n",
       "LotShapeIR3           .           \n",
       "LotShapeReg           .           \n",
       "LandContourBnk        .           \n",
       "LandContourHLS        3.462683e+03\n",
       "LandContourLow        .           \n",
       "LandContourLvl        .           \n",
       "UtilitiesAllPub       .           \n",
       "UtilitiesNoSeWa       .           \n",
       "LotConfigCorner       .           \n",
       "LotConfigCulDSac      8.170775e+03\n",
       "LotConfigFR2          .           \n",
       "LotConfigFR3          .           \n",
       "LotConfigInside       .           \n",
       "LandSlopeGtl          .           \n",
       "LandSlopeMod          .           \n",
       "LandSlopeSev          .           \n",
       "NeighborhoodBlmngtn   .           \n",
       "NeighborhoodBlueste   .           \n",
       "NeighborhoodBrDale    .           \n",
       "NeighborhoodBrkSide   4.426300e+03\n",
       "NeighborhoodClearCr   .           \n",
       "NeighborhoodCollgCr   .           \n",
       "NeighborhoodCrawfor   1.693845e+04\n",
       "NeighborhoodEdwards   .           \n",
       "NeighborhoodGilbert   .           \n",
       "NeighborhoodIDOTRR    .           \n",
       "NeighborhoodMeadowV   .           \n",
       "NeighborhoodMitchel   .           \n",
       "NeighborhoodNAmes     .           \n",
       "NeighborhoodNoRidge   3.099716e+04\n",
       "NeighborhoodNPkVill   .           \n",
       "NeighborhoodNridgHt   1.921169e+04\n",
       "NeighborhoodNWAmes   -4.550274e+03\n",
       "NeighborhoodOldTown  -1.369101e+03\n",
       "NeighborhoodSawyer    .           \n",
       "NeighborhoodSawyerW   .           \n",
       "NeighborhoodSomerst   1.221830e+03\n",
       "NeighborhoodStoneBr   3.353758e+04\n",
       "NeighborhoodSWISU     .           \n",
       "NeighborhoodTimber    .           \n",
       "NeighborhoodVeenker   .           \n",
       "Condition1Artery      .           \n",
       "Condition1Feedr       .           \n",
       "Condition1Norm        4.897938e+03\n",
       "Condition1PosA        .           \n",
       "Condition1PosN        .           \n",
       "Condition1RRAe       -7.124274e+03\n",
       "Condition1RRAn        .           \n",
       "Condition1RRNe        .           \n",
       "Condition1RRNn        .           \n",
       "Condition2Artery      .           \n",
       "Condition2Feedr       .           \n",
       "Condition2Norm        .           \n",
       "Condition2PosA        .           \n",
       "Condition2PosN       -3.700748e+05\n",
       "Condition2RRAe        .           \n",
       "Condition2RRAn        .           \n",
       "Condition2RRNn        .           \n",
       "BldgType1Fam          8.161520e+03\n",
       "BldgType2fmCon        .           \n",
       "BldgTypeDuplex        .           \n",
       "BldgTypeTwnhs         .           \n",
       "BldgTypeTwnhsE        .           \n",
       "HouseStyle1.5Fin      .           \n",
       "HouseStyle1.5Unf      .           \n",
       "HouseStyle1Story      .           \n",
       "HouseStyle2.5Fin      .           \n",
       "HouseStyle2.5Unf      .           \n",
       "HouseStyle2Story      .           \n",
       "HouseStyleSFoyer      .           \n",
       "HouseStyleSLvl        .           \n",
       "RoofStyleFlat         .           \n",
       "RoofStyleGable       -2.792469e+02\n",
       "RoofStyleGambrel      .           \n",
       "RoofStyleHip          .           \n",
       "RoofStyleMansard      .           \n",
       "RoofStyleShed         .           \n",
       "RoofMatlClyTile      -6.150691e+05\n",
       "RoofMatlCompShg       .           \n",
       "RoofMatlMembran       .           \n",
       "RoofMatlMetal         .           \n",
       "RoofMatlRoll          .           \n",
       "RoofMatlTar.Grv       .           \n",
       "RoofMatlWdShake       .           \n",
       "RoofMatlWdShngl       5.582673e+04\n",
       "Exterior1stAsbShng    .           \n",
       "Exterior1stAsphShn    .           \n",
       "Exterior1stBrkComm   -4.619523e+03\n",
       "Exterior1stBrkFace    8.863562e+03\n",
       "Exterior1stCBlock     .           \n",
       "Exterior1stCemntBd    .           \n",
       "Exterior1stHdBoard    .           \n",
       "Exterior1stImStucc    .           \n",
       "Exterior1stMetalSd    .           \n",
       "Exterior1stPlywood   -9.861885e+02\n",
       "Exterior1stStone      .           \n",
       "Exterior1stStucco     .           \n",
       "Exterior1stVinylSd    .           \n",
       "Exterior1stWd.Sdng    .           \n",
       "Exterior1stWdShing    .           \n",
       "Exterior2ndAsbShng    .           \n",
       "Exterior2ndAsphShn    .           \n",
       "Exterior2ndBrk.Cmn    .           \n",
       "Exterior2ndBrkFace    .           \n",
       "Exterior2ndCBlock     .           \n",
       "Exterior2ndCmentBd    .           \n",
       "Exterior2ndHdBoard    .           \n",
       "Exterior2ndImStucc    1.402933e+04\n",
       "Exterior2ndMetalSd    .           \n",
       "Exterior2ndOther      .           \n",
       "Exterior2ndPlywood    .           \n",
       "Exterior2ndStone      .           \n",
       "Exterior2ndStucco     .           \n",
       "Exterior2ndVinylSd    .           \n",
       "Exterior2ndWd.Sdng    .           \n",
       "Exterior2ndWd.Shng    .           \n",
       "ExterQualEx           3.202819e+04\n",
       "ExterQualFa           .           \n",
       "ExterQualGd           .           \n",
       "ExterQualTA          -5.245745e+03\n",
       "ExterCondEx           .           \n",
       "ExterCondFa           .           \n",
       "ExterCondGd           .           \n",
       "ExterCondPo           .           \n",
       "ExterCondTA           .           \n",
       "FoundationBrkTil      .           \n",
       "FoundationCBlock      .           \n",
       "FoundationPConc       3.083063e+03\n",
       "FoundationSlab        .           \n",
       "FoundationStone       .           \n",
       "FoundationWood        .           \n",
       "HeatingFloor          .           \n",
       "HeatingGasA           .           \n",
       "HeatingGasW           .           \n",
       "HeatingGrav           .           \n",
       "HeatingOthW          -4.069510e+03\n",
       "HeatingWall           .           \n",
       "HeatingQCEx           1.467457e+03\n",
       "HeatingQCFa           .           \n",
       "HeatingQCGd           .           \n",
       "HeatingQCPo           .           \n",
       "HeatingQCTA          -3.749431e+02\n",
       "CentralAirN           .           \n",
       "CentralAirY           .           \n",
       "KitchenQualEx         2.789622e+04\n",
       "KitchenQualFa         .           \n",
       "KitchenQualGd         .           \n",
       "KitchenQualTA         .           \n",
       "FunctionalMaj1        .           \n",
       "FunctionalMaj2        .           \n",
       "FunctionalMin1        .           \n",
       "FunctionalMin2        .           \n",
       "FunctionalMod         .           \n",
       "FunctionalSev         .           \n",
       "FunctionalTyp         1.022618e+04\n",
       "PavedDriveN           .           \n",
       "PavedDriveP           .           \n",
       "PavedDriveY           .           \n",
       "SaleTypeCOD          -1.998918e+03\n",
       "SaleTypeCon           8.756615e+03\n",
       "SaleTypeConLD         .           \n",
       "SaleTypeConLI         .           \n",
       "SaleTypeConLw         .           \n",
       "SaleTypeCWD           1.066308e+04\n",
       "SaleTypeNew           2.262801e+04\n",
       "SaleTypeOth           .           \n",
       "SaleTypeWD            .           \n",
       "SaleConditionAbnorml  .           \n",
       "SaleConditionAdjLand  .           \n",
       "SaleConditionAlloca   .           \n",
       "SaleConditionFamily   .           \n",
       "SaleConditionNormal   .           \n",
       "SaleConditionPartial  .           \n",
       "MSSubClass           -3.524089e+01\n",
       "LotArea               3.791731e-01\n",
       "OverallQual           9.950221e+03\n",
       "OverallCond           2.555841e+03\n",
       "YearBuilt             2.374558e+02\n",
       "YearRemodAdd          1.092408e+02\n",
       "BsmtFinSF1            2.285840e+01\n",
       "BsmtFinSF2            6.719830e-01\n",
       "BsmtUnfSF             .           \n",
       "TotalBsmtSF           1.491447e+01\n",
       "1stFlrSF              1.395737e+00\n",
       "2ndFlrSF              .           \n",
       "LowQualFinSF         -9.060511e+00\n",
       "GrLivArea             6.085363e+01\n",
       "BsmtFullBath          5.410633e+02\n",
       "BsmtHalfBath          .           \n",
       "FullBath              .           \n",
       "HalfBath              .           \n",
       "BedroomAbvGr         -2.269567e+03\n",
       "KitchenAbvGr         -4.574976e+03\n",
       "TotRmsAbvGrd          .           \n",
       "Fireplaces            2.304792e+03\n",
       "GarageCars            6.999654e+03\n",
       "GarageArea            2.519068e+00\n",
       "WoodDeckSF            6.500743e+00\n",
       "OpenPorchSF           .           \n",
       "EnclosedPorch         .           \n",
       "3SsnPorch             .           \n",
       "ScreenPorch           6.466265e+00\n",
       "PoolArea              5.668800e+01\n",
       "MiscVal               .           \n",
       "MoSold               -1.827747e+02\n",
       "YrSold                .           "
      ]
     },
     "metadata": {},
     "output_type": "display_data"
    }
   ],
   "source": [
    "Housing_LASSO_min <- glmnet(\n",
    "  x = Housing_X_train, y = Housing_Y_train,\n",
    "  alpha = 1,\n",
    "  lambda = Housing_lambda_min_MSE_LASSO\n",
    ")\n",
    "\n",
    "Housing_LASSO_min.coef <- Housing_LASSO_min$beta\n",
    "Housing_LASSO_min.coef"
   ]
  },
  {
   "cell_type": "markdown",
   "id": "f3ea6a39-f6b7-44d4-a38c-ce8183627676",
   "metadata": {},
   "source": [
    "*Table 2.2 Optimal LASSO model with selected features and corresponding coefficients*"
   ]
  },
  {
   "cell_type": "markdown",
   "id": "9d6069ac-d970-4774-8dc0-78d1ecd911c9",
   "metadata": {},
   "source": [
    "The above results yield our LASSO selected variables along with their respective coefficients. Using LASSO helps us deal with problems stemming from multicollinearity directly just fitting the model. However, we want to make sure that multicollinearity is not an issue in our model using the LASSO selected models. In order to understand this better, we calculate VIF for our selected variables below:"
   ]
  },
  {
   "cell_type": "code",
   "execution_count": 15,
   "id": "b465b1b9-48c0-4c49-bcf0-2aaabff9e391",
   "metadata": {
    "vscode": {
     "languageId": "r"
    }
   },
   "outputs": [
    {
     "data": {
      "text/html": [
       "<style>\n",
       ".dl-inline {width: auto; margin:0; padding: 0}\n",
       ".dl-inline>dt, .dl-inline>dd {float: none; width: auto; display: inline-block}\n",
       ".dl-inline>dt::after {content: \":\\0020\"; padding-right: .5ex}\n",
       ".dl-inline>dt:not(:first-of-type) {padding-left: .5ex}\n",
       "</style><dl class=dl-inline><dt>MSZoningC..all.</dt><dd>1.18043847537652</dd><dt>MSZoningRM</dt><dd>2.12189346791672</dd><dt>LandContourHLS</dt><dd>1.22947422865713</dd><dt>LotConfigCulDSac</dt><dd>1.13369365035554</dd><dt>NeighborhoodBrkSide</dt><dd>1.34890110174133</dd><dt>NeighborhoodCrawfor</dt><dd>1.37546395919036</dd><dt>NeighborhoodNoRidge</dt><dd>1.32891657198348</dd><dt>NeighborhoodNridgHt</dt><dd>1.74492799000653</dd><dt>NeighborhoodNWAmes</dt><dd>1.24364467018494</dd><dt>NeighborhoodOldTown</dt><dd>2.43442331564316</dd><dt>NeighborhoodSomerst</dt><dd>1.40275956904745</dd><dt>NeighborhoodStoneBr</dt><dd>1.27038494998449</dd><dt>Condition1Norm</dt><dd>1.22192212277797</dd><dt>Condition1RRAe</dt><dd>1.17832938140815</dd><dt>Condition2PosN</dt><dd>1.17149600651535</dd><dt>BldgType1Fam</dt><dd>6.23083504855609</dd><dt>RoofStyleGable</dt><dd>1.22837800657934</dd><dt>RoofMatlClyTile</dt><dd>1.6893190876001</dd><dt>RoofMatlWdShngl</dt><dd>1.15067438598678</dd><dt>Exterior1stBrkComm</dt><dd>1.06165160778029</dd><dt>Exterior1stBrkFace</dt><dd>1.20413911170388</dd><dt>Exterior1stPlywood</dt><dd>1.30269352853576</dd><dt>Exterior2ndImStucc</dt><dd>1.10757254621684</dd><dt>ExterQualEx</dt><dd>1.86895982294842</dd><dt>ExterQualTA</dt><dd>2.59682175974207</dd><dt>FoundationPConc</dt><dd>2.92586746675931</dd><dt>HeatingOthW</dt><dd>1.03405327045013</dd><dt>HeatingQCEx</dt><dd>2.3160567978557</dd><dt>HeatingQCTA</dt><dd>1.91899013489251</dd><dt>KitchenQualEx</dt><dd>1.87809187280643</dd><dt>FunctionalTyp</dt><dd>1.34681568007011</dd><dt>SaleTypeCOD</dt><dd>1.12324596055686</dd><dt>SaleTypeCon</dt><dd>1.07990781568416</dd><dt>SaleTypeConLD</dt><dd>1.0958299728127</dd><dt>SaleTypeConLI</dt><dd>1.0581902314517</dd><dt>SaleTypeConLw</dt><dd>1.047517236797</dd><dt>SaleTypeCWD</dt><dd>1.05331599793233</dd><dt>SaleTypeNew</dt><dd>1.54374313240785</dd><dt>MSSubClass</dt><dd>5.67103466987369</dd><dt>LotArea</dt><dd>1.28540564210536</dd><dt>OverallQual</dt><dd>4.2801238889433</dd><dt>OverallCond</dt><dd>1.82963466219366</dd><dt>YearBuilt</dt><dd>5.85328394604435</dd><dt>YearRemodAdd</dt><dd>2.56021143030694</dd><dt>BsmtFinSF1</dt><dd>2.90615666204175</dd><dt>BsmtFinSF2</dt><dd>1.23816128618496</dd><dt>TotalBsmtSF</dt><dd>4.7810822125984</dd><dt>`1stFlrSF`</dt><dd>5.57429537329284</dd><dt>LowQualFinSF</dt><dd>1.15980367313307</dd><dt>GrLivArea</dt><dd>5.60035595525345</dd><dt>BsmtFullBath</dt><dd>2.10387880730966</dd><dt>BedroomAbvGr</dt><dd>2.04859026201063</dd><dt>KitchenAbvGr</dt><dd>1.83302289158904</dd><dt>Fireplaces</dt><dd>1.74783749105373</dd><dt>GarageCars</dt><dd>5.73287980189096</dd><dt>GarageArea</dt><dd>5.47096079074927</dd><dt>WoodDeckSF</dt><dd>1.27210326746383</dd><dt>ScreenPorch</dt><dd>1.13776110872556</dd><dt>PoolArea</dt><dd>1.29529601080061</dd><dt>MoSold</dt><dd>1.08538076960721</dd></dl>\n"
      ],
      "text/latex": [
       "\\begin{description*}\n",
       "\\item[MSZoningC..all.] 1.18043847537652\n",
       "\\item[MSZoningRM] 2.12189346791672\n",
       "\\item[LandContourHLS] 1.22947422865713\n",
       "\\item[LotConfigCulDSac] 1.13369365035554\n",
       "\\item[NeighborhoodBrkSide] 1.34890110174133\n",
       "\\item[NeighborhoodCrawfor] 1.37546395919036\n",
       "\\item[NeighborhoodNoRidge] 1.32891657198348\n",
       "\\item[NeighborhoodNridgHt] 1.74492799000653\n",
       "\\item[NeighborhoodNWAmes] 1.24364467018494\n",
       "\\item[NeighborhoodOldTown] 2.43442331564316\n",
       "\\item[NeighborhoodSomerst] 1.40275956904745\n",
       "\\item[NeighborhoodStoneBr] 1.27038494998449\n",
       "\\item[Condition1Norm] 1.22192212277797\n",
       "\\item[Condition1RRAe] 1.17832938140815\n",
       "\\item[Condition2PosN] 1.17149600651535\n",
       "\\item[BldgType1Fam] 6.23083504855609\n",
       "\\item[RoofStyleGable] 1.22837800657934\n",
       "\\item[RoofMatlClyTile] 1.6893190876001\n",
       "\\item[RoofMatlWdShngl] 1.15067438598678\n",
       "\\item[Exterior1stBrkComm] 1.06165160778029\n",
       "\\item[Exterior1stBrkFace] 1.20413911170388\n",
       "\\item[Exterior1stPlywood] 1.30269352853576\n",
       "\\item[Exterior2ndImStucc] 1.10757254621684\n",
       "\\item[ExterQualEx] 1.86895982294842\n",
       "\\item[ExterQualTA] 2.59682175974207\n",
       "\\item[FoundationPConc] 2.92586746675931\n",
       "\\item[HeatingOthW] 1.03405327045013\n",
       "\\item[HeatingQCEx] 2.3160567978557\n",
       "\\item[HeatingQCTA] 1.91899013489251\n",
       "\\item[KitchenQualEx] 1.87809187280643\n",
       "\\item[FunctionalTyp] 1.34681568007011\n",
       "\\item[SaleTypeCOD] 1.12324596055686\n",
       "\\item[SaleTypeCon] 1.07990781568416\n",
       "\\item[SaleTypeConLD] 1.0958299728127\n",
       "\\item[SaleTypeConLI] 1.0581902314517\n",
       "\\item[SaleTypeConLw] 1.047517236797\n",
       "\\item[SaleTypeCWD] 1.05331599793233\n",
       "\\item[SaleTypeNew] 1.54374313240785\n",
       "\\item[MSSubClass] 5.67103466987369\n",
       "\\item[LotArea] 1.28540564210536\n",
       "\\item[OverallQual] 4.2801238889433\n",
       "\\item[OverallCond] 1.82963466219366\n",
       "\\item[YearBuilt] 5.85328394604435\n",
       "\\item[YearRemodAdd] 2.56021143030694\n",
       "\\item[BsmtFinSF1] 2.90615666204175\n",
       "\\item[BsmtFinSF2] 1.23816128618496\n",
       "\\item[TotalBsmtSF] 4.7810822125984\n",
       "\\item[`1stFlrSF`] 5.57429537329284\n",
       "\\item[LowQualFinSF] 1.15980367313307\n",
       "\\item[GrLivArea] 5.60035595525345\n",
       "\\item[BsmtFullBath] 2.10387880730966\n",
       "\\item[BedroomAbvGr] 2.04859026201063\n",
       "\\item[KitchenAbvGr] 1.83302289158904\n",
       "\\item[Fireplaces] 1.74783749105373\n",
       "\\item[GarageCars] 5.73287980189096\n",
       "\\item[GarageArea] 5.47096079074927\n",
       "\\item[WoodDeckSF] 1.27210326746383\n",
       "\\item[ScreenPorch] 1.13776110872556\n",
       "\\item[PoolArea] 1.29529601080061\n",
       "\\item[MoSold] 1.08538076960721\n",
       "\\end{description*}\n"
      ],
      "text/markdown": [
       "MSZoningC..all.\n",
       ":   1.18043847537652MSZoningRM\n",
       ":   2.12189346791672LandContourHLS\n",
       ":   1.22947422865713LotConfigCulDSac\n",
       ":   1.13369365035554NeighborhoodBrkSide\n",
       ":   1.34890110174133NeighborhoodCrawfor\n",
       ":   1.37546395919036NeighborhoodNoRidge\n",
       ":   1.32891657198348NeighborhoodNridgHt\n",
       ":   1.74492799000653NeighborhoodNWAmes\n",
       ":   1.24364467018494NeighborhoodOldTown\n",
       ":   2.43442331564316NeighborhoodSomerst\n",
       ":   1.40275956904745NeighborhoodStoneBr\n",
       ":   1.27038494998449Condition1Norm\n",
       ":   1.22192212277797Condition1RRAe\n",
       ":   1.17832938140815Condition2PosN\n",
       ":   1.17149600651535BldgType1Fam\n",
       ":   6.23083504855609RoofStyleGable\n",
       ":   1.22837800657934RoofMatlClyTile\n",
       ":   1.6893190876001RoofMatlWdShngl\n",
       ":   1.15067438598678Exterior1stBrkComm\n",
       ":   1.06165160778029Exterior1stBrkFace\n",
       ":   1.20413911170388Exterior1stPlywood\n",
       ":   1.30269352853576Exterior2ndImStucc\n",
       ":   1.10757254621684ExterQualEx\n",
       ":   1.86895982294842ExterQualTA\n",
       ":   2.59682175974207FoundationPConc\n",
       ":   2.92586746675931HeatingOthW\n",
       ":   1.03405327045013HeatingQCEx\n",
       ":   2.3160567978557HeatingQCTA\n",
       ":   1.91899013489251KitchenQualEx\n",
       ":   1.87809187280643FunctionalTyp\n",
       ":   1.34681568007011SaleTypeCOD\n",
       ":   1.12324596055686SaleTypeCon\n",
       ":   1.07990781568416SaleTypeConLD\n",
       ":   1.0958299728127SaleTypeConLI\n",
       ":   1.0581902314517SaleTypeConLw\n",
       ":   1.047517236797SaleTypeCWD\n",
       ":   1.05331599793233SaleTypeNew\n",
       ":   1.54374313240785MSSubClass\n",
       ":   5.67103466987369LotArea\n",
       ":   1.28540564210536OverallQual\n",
       ":   4.2801238889433OverallCond\n",
       ":   1.82963466219366YearBuilt\n",
       ":   5.85328394604435YearRemodAdd\n",
       ":   2.56021143030694BsmtFinSF1\n",
       ":   2.90615666204175BsmtFinSF2\n",
       ":   1.23816128618496TotalBsmtSF\n",
       ":   4.7810822125984`1stFlrSF`\n",
       ":   5.57429537329284LowQualFinSF\n",
       ":   1.15980367313307GrLivArea\n",
       ":   5.60035595525345BsmtFullBath\n",
       ":   2.10387880730966BedroomAbvGr\n",
       ":   2.04859026201063KitchenAbvGr\n",
       ":   1.83302289158904Fireplaces\n",
       ":   1.74783749105373GarageCars\n",
       ":   5.73287980189096GarageArea\n",
       ":   5.47096079074927WoodDeckSF\n",
       ":   1.27210326746383ScreenPorch\n",
       ":   1.13776110872556PoolArea\n",
       ":   1.29529601080061MoSold\n",
       ":   1.08538076960721\n",
       "\n"
      ],
      "text/plain": [
       "    MSZoningC..all.          MSZoningRM      LandContourHLS    LotConfigCulDSac \n",
       "           1.180438            2.121893            1.229474            1.133694 \n",
       "NeighborhoodBrkSide NeighborhoodCrawfor NeighborhoodNoRidge NeighborhoodNridgHt \n",
       "           1.348901            1.375464            1.328917            1.744928 \n",
       " NeighborhoodNWAmes NeighborhoodOldTown NeighborhoodSomerst NeighborhoodStoneBr \n",
       "           1.243645            2.434423            1.402760            1.270385 \n",
       "     Condition1Norm      Condition1RRAe      Condition2PosN        BldgType1Fam \n",
       "           1.221922            1.178329            1.171496            6.230835 \n",
       "     RoofStyleGable     RoofMatlClyTile     RoofMatlWdShngl  Exterior1stBrkComm \n",
       "           1.228378            1.689319            1.150674            1.061652 \n",
       " Exterior1stBrkFace  Exterior1stPlywood  Exterior2ndImStucc         ExterQualEx \n",
       "           1.204139            1.302694            1.107573            1.868960 \n",
       "        ExterQualTA     FoundationPConc         HeatingOthW         HeatingQCEx \n",
       "           2.596822            2.925867            1.034053            2.316057 \n",
       "        HeatingQCTA       KitchenQualEx       FunctionalTyp         SaleTypeCOD \n",
       "           1.918990            1.878092            1.346816            1.123246 \n",
       "        SaleTypeCon       SaleTypeConLD       SaleTypeConLI       SaleTypeConLw \n",
       "           1.079908            1.095830            1.058190            1.047517 \n",
       "        SaleTypeCWD         SaleTypeNew          MSSubClass             LotArea \n",
       "           1.053316            1.543743            5.671035            1.285406 \n",
       "        OverallQual         OverallCond           YearBuilt        YearRemodAdd \n",
       "           4.280124            1.829635            5.853284            2.560211 \n",
       "         BsmtFinSF1          BsmtFinSF2         TotalBsmtSF          `1stFlrSF` \n",
       "           2.906157            1.238161            4.781082            5.574295 \n",
       "       LowQualFinSF           GrLivArea        BsmtFullBath        BedroomAbvGr \n",
       "           1.159804            5.600356            2.103879            2.048590 \n",
       "       KitchenAbvGr          Fireplaces          GarageCars          GarageArea \n",
       "           1.833023            1.747837            5.732880            5.470961 \n",
       "         WoodDeckSF         ScreenPorch            PoolArea              MoSold \n",
       "           1.272103            1.137761            1.295296            1.085381 "
      ]
     },
     "metadata": {},
     "output_type": "display_data"
    }
   ],
   "source": [
    "# check for multicollinearity using vif\n",
    "\n",
    "lasso_selected_variables <-\n",
    "    as_tibble(\n",
    "        as.matrix(Housing_LASSO_min.coef),\n",
    "        rownames='covariate') %>%\n",
    "        filter(covariate != '(Intercept)' & abs(s0) > 10e-6) %>% \n",
    "        pull(covariate)\n",
    "\n",
    "variables_vif <- vif(lm(SalePrice ~ . , data = housing_train %>% \n",
    "        select(contains(lasso_selected_variables), SalePrice)))\n",
    "\n",
    "variables_vif"
   ]
  },
  {
   "cell_type": "markdown",
   "id": "c7db57ae-7be7-42ff-ad5f-cb7c69698b49",
   "metadata": {},
   "source": [
    "*Table 2.3 VIF for each feature*"
   ]
  },
  {
   "cell_type": "markdown",
   "id": "a25bc221-3555-423c-a942-b45ef77aeb7f",
   "metadata": {},
   "source": [
    "We can see from the above results that for the most part, we do not need to worry about multicollinearity in our model. There are some variables that report a higher VIF relative to the rest of the selected variables, however, we believe that for the purposes of prediction power, we can ignore these for now as we are not developping a model specifically for inference."
   ]
  },
  {
   "cell_type": "markdown",
   "id": "c4af0fc5-046f-4e3f-9646-aefea51f9c0d",
   "metadata": {},
   "source": [
    "Having selected our variables, we can now begin testing the performance of our model. We are specifically interested in testing the out-of-sample performance of our model as this will help us determine if our model has valuable predicting power. We do this by comparing our estimated SalePrice for the data in our testing subset of the data, and comparing this to the actual observed values stored in this subset. We will do this to determine our model's RMSE for data it has not seen. We will also check our coefficient of determination which will allow us to determine the proportion of the variation in SalePrice that is described by our model. This will help us determine if our model selection was adequate."
   ]
  },
  {
   "cell_type": "code",
   "execution_count": 16,
   "id": "a04160bd-040e-49a8-a82d-d653f42d454c",
   "metadata": {
    "vscode": {
     "languageId": "r"
    }
   },
   "outputs": [],
   "source": [
    "Housing_test_pred<- predict(Housing_LASSO_min,\n",
    "  newx = Housing_X_test)"
   ]
  },
  {
   "cell_type": "code",
   "execution_count": 17,
   "id": "6749ab6f-f1ab-47f9-8644-126eba68a4b1",
   "metadata": {
    "vscode": {
     "languageId": "r"
    }
   },
   "outputs": [
    {
     "data": {
      "text/html": [
       "<span style=white-space:pre-wrap>'RMSE:  27341.2722425824'</span>"
      ],
      "text/latex": [
       "'RMSE:  27341.2722425824'"
      ],
      "text/markdown": [
       "<span style=white-space:pre-wrap>'RMSE:  27341.2722425824'</span>"
      ],
      "text/plain": [
       "[1] \"RMSE:  27341.2722425824\""
      ]
     },
     "metadata": {},
     "output_type": "display_data"
    },
    {
     "data": {
      "text/html": [
       "<span style=white-space:pre-wrap>'Coefficient of Determination:  0.910048224428991'</span>"
      ],
      "text/latex": [
       "'Coefficient of Determination:  0.910048224428991'"
      ],
      "text/markdown": [
       "<span style=white-space:pre-wrap>'Coefficient of Determination:  0.910048224428991'</span>"
      ],
      "text/plain": [
       "[1] \"Coefficient of Determination:  0.910048224428991\""
      ]
     },
     "metadata": {},
     "output_type": "display_data"
    }
   ],
   "source": [
    "R_MSE = rmse(\n",
    "      preds = Housing_test_pred,\n",
    "      actuals = Housing_Y_test\n",
    "    )\n",
    "\n",
    "paste(\"RMSE: \",  R_MSE)\n",
    "\n",
    "\n",
    "R_squared <- Housing_LASSO_min$dev.ratio\n",
    "paste(\"Coefficient of Determination: \",  R_squared)"
   ]
  },
  {
   "cell_type": "markdown",
   "id": "be9dd06b",
   "metadata": {},
   "source": [
    "What do these results mean? First lets take a look at our coefficient of determination. Our model yielded a value of 0.91 for our coefficient of determination. Given the context of this project, we believe this is a reasonable result indicating an adequate fit of our model to the data. \n",
    "\n",
    "Next, the RMSE value of 27024.61 can be interpreted as the average difference in dollars between the predicted sale prices and the actual sale prices of homes. Intuitively, a lower RMSE value would indicate that the model is able to more accurately predict the sale prices of homes and the differences between the predicted and actual sale prices are smaller on average, and vise versa. As shown in *Figure 1.1*, given the majority of the housing sale prices concentrate around roughly 150000 dollars, we say an error of approximately 27024.61 dollars is acceptable for the purpose of this project. "
   ]
  },
  {
   "cell_type": "markdown",
   "id": "835b476a",
   "metadata": {},
   "source": [
    "### What did we do? Lets Review:"
   ]
  },
  {
   "cell_type": "markdown",
   "id": "47418882-e2b8-4a80-90a4-6ba98ef36121",
   "metadata": {},
   "source": [
    "#### Model Fitting\n",
    "\n",
    "Once we had identified the most important covariates using LASSO, we fitted a linear regression model using these variables. Linear regression is a statistical method that allows us to model the relationship between a dependent variable (in this case, housing prices) and one or more independent variables (the characteristics of the homes). We used cross-validation to determine the most optimal model, which involved dividing the data into several folds and training and evaluating the model on each fold. This helps to reduce the risk of overfitting, which is when the model is too complex and performs poorly on new data. We used the cross-validation scores (CP) as the metric for model assessment in cross-validation.\n"
   ]
  },
  {
   "cell_type": "markdown",
   "id": "3de2ffe4-7779-4ac8-9857-fe7cb85547b8",
   "metadata": {},
   "source": [
    "#### Model Assessment\n",
    "\n",
    "To evaluate the performance of our model, we conducted a careful model assessment. This included calculating metrics such as R-squared, which measures the amount of variance explained by the model, and root mean squared error (RMSE), which measures the average distance between the predicted values and the true values. These metrics allow us to gauge the accuracy of our model and make any necessary improvements."
   ]
  },
  {
   "cell_type": "markdown",
   "id": "66144143-2f84-49d9-a05d-8a297335f506",
   "metadata": {},
   "source": [
    "## 3. Results\n",
    "\n",
    "Our analysis yielded several key findings that are relevant to the goal of predicting housing prices in Ames, Iowa. First and foremost, we found that our model had 0.91 for our coefficient of determination, indicating that it explains a significant amount of the variance in the data. This suggests that our model is able to accurately predict housing prices based on the characteristics of the homes. The RMSE value of 27024.61 was also relatively low, further supporting the accuracy of our predictions.\n",
    "\n",
    "In terms of the specific features that were selected by the LASSO method, we found that 44 variables were included in the final model. These variables were chosen because they had the greatest impact on the outcome, as determined by the LASSO penalty term. We believe we found the right model that factors in interpretability and prediction capacity for the use case example of a realtor."
   ]
  },
  {
   "cell_type": "markdown",
   "id": "f676461a-da98-48ca-983f-7906313cfdcb",
   "metadata": {},
   "source": [
    "## 4. Discussion\n",
    "\n",
    "Overall, our results were in line with what we expected to find. However, there are a few ways in which our model could be improved. One potential approach would be to incorporate additional variables or try a different modeling technique. Additionally, further research could be conducted to explore the implications and impact of our findings in more detail. For example, we could examine how different variables affect housing prices in different parts of Ames, Iowa, or explore the effect of economic factors on the housing market.\n",
    "\n",
    "In conclusion, our analysis using linear regression, cross-validation, and LASSO was successful in identifying the most optimal model and testing its accuracy on the test data. Our findings have important implications for realtors and other professionals involved in the sale of residential homes in Ames, Iowa, as they can help inform decision-making and ensure that buyers and sellers receive fair value for their properties.\n"
   ]
  },
  {
   "cell_type": "markdown",
   "id": "7e8decc2-61bd-48e6-9bd3-74266fa184c9",
   "metadata": {},
   "source": [
    "## References"
   ]
  },
  {
   "cell_type": "markdown",
   "id": "ae61574f",
   "metadata": {},
   "source": [
    "1. Huang, B., & Rutherford, R. (2007). Who you going to call? performance of realtors and non-realtors in a MLS setting. Journal of Real Estate Finance and Economics, 35(1), 77. doi:https://doi.org/10.1007/s11146-007-9029-7\n",
    "\n",
    "2. Benjamin, J. D., Jud, G. D., Roth, K. A., & Winkler, D. T. (2002). Technology and realtor® income. Journal of Real Estate Finance and Economics, 25(1), 51. Retrieved from https://www.proquest.com/scholarly-journals/technology-realtor®-income/docview/203147731/se-2\n",
    "\n",
    "3. https://www.kaggle.com/competitions/house-prices-advanced-regression-techniques/data"
   ]
  }
 ],
 "metadata": {
  "kernelspec": {
   "display_name": "R",
   "language": "R",
   "name": "ir"
  },
  "language_info": {
   "codemirror_mode": "r",
   "file_extension": ".r",
   "mimetype": "text/x-r-source",
   "name": "R",
   "pygments_lexer": "r",
   "version": "4.1.3"
  }
 },
 "nbformat": 4,
 "nbformat_minor": 5
}
